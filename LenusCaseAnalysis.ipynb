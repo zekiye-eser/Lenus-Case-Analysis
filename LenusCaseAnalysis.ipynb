{
  "nbformat": 4,
  "nbformat_minor": 0,
  "metadata": {
    "colab": {
      "name": "LenusCaseAnalysis.ipynb",
      "provenance": [],
      "collapsed_sections": []
    },
    "kernelspec": {
      "name": "python3",
      "display_name": "Python 3"
    },
    "language_info": {
      "name": "python"
    }
  },
  "cells": [
    {
      "cell_type": "code",
      "metadata": {
        "colab": {
          "base_uri": "https://localhost:8080/"
        },
        "id": "IOTZO26mInMH",
        "outputId": "0d2fa2b9-f0f4-4c33-d376-2fd18899935d"
      },
      "source": [
        "from google.colab import drive\n",
        "drive.mount('/content/drive')"
      ],
      "execution_count": 1,
      "outputs": [
        {
          "output_type": "stream",
          "name": "stdout",
          "text": [
            "Mounted at /content/drive\n"
          ]
        }
      ]
    },
    {
      "cell_type": "code",
      "metadata": {
        "colab": {
          "base_uri": "https://localhost:8080/",
          "height": 17
        },
        "id": "8ugTFV8PI8eW",
        "outputId": "68755ea9-5f86-4cfe-b5ca-b73183f0b9d2"
      },
      "source": [
        "import pandas as pd\n",
        "import numpy as np\n",
        "import matplotlib as mpl\n",
        "import matplotlib.pyplot as plt\n",
        "import seaborn as sns\n",
        "import datetime, nltk, warnings\n",
        "import matplotlib.cm as cm\n",
        "import itertools\n",
        "from pathlib import Path\n",
        "from sklearn.preprocessing import StandardScaler\n",
        "from sklearn.cluster import KMeans\n",
        "from sklearn.metrics import silhouette_samples, silhouette_score\n",
        "from sklearn import preprocessing, model_selection, metrics, feature_selection\n",
        "from sklearn.model_selection import GridSearchCV, learning_curve\n",
        "from sklearn.svm import SVC\n",
        "from sklearn.metrics import confusion_matrix\n",
        "from sklearn import neighbors, linear_model, svm, tree, ensemble\n",
        "from wordcloud import WordCloud, STOPWORDS\n",
        "from sklearn.ensemble import AdaBoostClassifier\n",
        "from sklearn.decomposition import PCA\n",
        "from IPython.display import display, HTML\n",
        "import plotly.graph_objs as go\n",
        "from plotly.offline import init_notebook_mode,iplot\n",
        "init_notebook_mode(connected=True)\n",
        "warnings.filterwarnings(\"ignore\")\n",
        "plt.rcParams[\"patch.force_edgecolor\"] = True\n",
        "plt.style.use('fivethirtyeight')\n",
        "mpl.rc('patch', edgecolor = 'dimgray', linewidth=1)\n"
      ],
      "execution_count": 2,
      "outputs": [
        {
          "output_type": "display_data",
          "data": {
            "text/html": [
              "        <script type=\"text/javascript\">\n",
              "        window.PlotlyConfig = {MathJaxConfig: 'local'};\n",
              "        if (window.MathJax) {MathJax.Hub.Config({SVG: {font: \"STIX-Web\"}});}\n",
              "        if (typeof require !== 'undefined') {\n",
              "        require.undef(\"plotly\");\n",
              "        requirejs.config({\n",
              "            paths: {\n",
              "                'plotly': ['https://cdn.plot.ly/plotly-latest.min']\n",
              "            }\n",
              "        });\n",
              "        require(['plotly'], function(Plotly) {\n",
              "            window._Plotly = Plotly;\n",
              "        });\n",
              "        }\n",
              "        </script>\n",
              "        "
            ]
          },
          "metadata": {}
        }
      ]
    },
    {
      "cell_type": "markdown",
      "metadata": {
        "id": "Q7tflPFbAeXc"
      },
      "source": [
        "#Explaratory Data Analysis"
      ]
    },
    {
      "cell_type": "code",
      "metadata": {
        "id": "OIcgXQLmJBca"
      },
      "source": [
        "path = '/content/drive/My Drive/Data_Scientist_-_Case_Dataset.csv'\n",
        "df= pd.read_csv(path, delimiter=\",\")"
      ],
      "execution_count": 3,
      "outputs": []
    },
    {
      "cell_type": "code",
      "metadata": {
        "colab": {
          "base_uri": "https://localhost:8080/",
          "height": 224
        },
        "id": "HcJh6nXbJBZe",
        "outputId": "ef865013-b63c-49df-bbe6-1ed10e8212b0"
      },
      "source": [
        "df.head(5)"
      ],
      "execution_count": 4,
      "outputs": [
        {
          "output_type": "execute_result",
          "data": {
            "text/html": [
              "<div>\n",
              "<style scoped>\n",
              "    .dataframe tbody tr th:only-of-type {\n",
              "        vertical-align: middle;\n",
              "    }\n",
              "\n",
              "    .dataframe tbody tr th {\n",
              "        vertical-align: top;\n",
              "    }\n",
              "\n",
              "    .dataframe thead th {\n",
              "        text-align: right;\n",
              "    }\n",
              "</style>\n",
              "<table border=\"1\" class=\"dataframe\">\n",
              "  <thead>\n",
              "    <tr style=\"text-align: right;\">\n",
              "      <th></th>\n",
              "      <th>customer_id</th>\n",
              "      <th>converted</th>\n",
              "      <th>customer_segment</th>\n",
              "      <th>gender</th>\n",
              "      <th>age</th>\n",
              "      <th>related_customers</th>\n",
              "      <th>family_size</th>\n",
              "      <th>initial_fee_level</th>\n",
              "      <th>credit_account_id</th>\n",
              "      <th>branch;;;;</th>\n",
              "    </tr>\n",
              "  </thead>\n",
              "  <tbody>\n",
              "    <tr>\n",
              "      <th>0</th>\n",
              "      <td>15001</td>\n",
              "      <td>0</td>\n",
              "      <td>13</td>\n",
              "      <td>male</td>\n",
              "      <td>22.0</td>\n",
              "      <td>1</td>\n",
              "      <td>0</td>\n",
              "      <td>14.5000</td>\n",
              "      <td>9b2d5b4678781e53038e91ea5324530a03f27dc1d0e5f6...</td>\n",
              "      <td>Helsinki;;;;</td>\n",
              "    </tr>\n",
              "    <tr>\n",
              "      <th>1</th>\n",
              "      <td>15002</td>\n",
              "      <td>1</td>\n",
              "      <td>11</td>\n",
              "      <td>female</td>\n",
              "      <td>38.0</td>\n",
              "      <td>1</td>\n",
              "      <td>0</td>\n",
              "      <td>142.5666</td>\n",
              "      <td>afa2dc179e46e8456ffff9016f91396e9c6adf1fe20d17...</td>\n",
              "      <td>Tampere;;;;</td>\n",
              "    </tr>\n",
              "    <tr>\n",
              "      <th>2</th>\n",
              "      <td>15003</td>\n",
              "      <td>1</td>\n",
              "      <td>13</td>\n",
              "      <td>female</td>\n",
              "      <td>26.0</td>\n",
              "      <td>0</td>\n",
              "      <td>0</td>\n",
              "      <td>15.8500</td>\n",
              "      <td>9b2d5b4678781e53038e91ea5324530a03f27dc1d0e5f6...</td>\n",
              "      <td>Helsinki;;;;</td>\n",
              "    </tr>\n",
              "    <tr>\n",
              "      <th>3</th>\n",
              "      <td>15004</td>\n",
              "      <td>1</td>\n",
              "      <td>11</td>\n",
              "      <td>female</td>\n",
              "      <td>35.0</td>\n",
              "      <td>1</td>\n",
              "      <td>0</td>\n",
              "      <td>106.2000</td>\n",
              "      <td>abefcf257b5d2ff2816a68ec7c84ec8c11e0e0dc4f3425...</td>\n",
              "      <td>Helsinki;;;;</td>\n",
              "    </tr>\n",
              "    <tr>\n",
              "      <th>4</th>\n",
              "      <td>15005</td>\n",
              "      <td>0</td>\n",
              "      <td>13</td>\n",
              "      <td>male</td>\n",
              "      <td>35.0</td>\n",
              "      <td>0</td>\n",
              "      <td>0</td>\n",
              "      <td>16.1000</td>\n",
              "      <td>9b2d5b4678781e53038e91ea5324530a03f27dc1d0e5f6...</td>\n",
              "      <td>Helsinki;;;;</td>\n",
              "    </tr>\n",
              "  </tbody>\n",
              "</table>\n",
              "</div>"
            ],
            "text/plain": [
              "   customer_id  ...    branch;;;;\n",
              "0        15001  ...  Helsinki;;;;\n",
              "1        15002  ...   Tampere;;;;\n",
              "2        15003  ...  Helsinki;;;;\n",
              "3        15004  ...  Helsinki;;;;\n",
              "4        15005  ...  Helsinki;;;;\n",
              "\n",
              "[5 rows x 10 columns]"
            ]
          },
          "metadata": {},
          "execution_count": 4
        }
      ]
    },
    {
      "cell_type": "code",
      "metadata": {
        "colab": {
          "base_uri": "https://localhost:8080/"
        },
        "id": "4veIf5eWFPCJ",
        "outputId": "ab6b2723-0c14-40cd-cf61-61e48e5cac4a"
      },
      "source": [
        "df.shape"
      ],
      "execution_count": 5,
      "outputs": [
        {
          "output_type": "execute_result",
          "data": {
            "text/plain": [
              "(891, 10)"
            ]
          },
          "metadata": {},
          "execution_count": 5
        }
      ]
    },
    {
      "cell_type": "code",
      "metadata": {
        "id": "Wo94OTvpGIT2"
      },
      "source": [
        "df = df.replace(['Helsinki;;;;'],'Helsinki')\n",
        "df = df.replace(['Tampere;;;;'],'Tampere')\n",
        "df = df.replace(['Turku;;;;'],'Turku')\n",
        "df = df.rename(columns={'branch;;;;': 'branch'})"
      ],
      "execution_count": 6,
      "outputs": []
    },
    {
      "cell_type": "code",
      "metadata": {
        "colab": {
          "base_uri": "https://localhost:8080/",
          "height": 224
        },
        "id": "Y5H22ye8fEH7",
        "outputId": "b3e84af1-3e37-4a55-fb84-aa01b340b3d4"
      },
      "source": [
        "df.tail(5)"
      ],
      "execution_count": 7,
      "outputs": [
        {
          "output_type": "execute_result",
          "data": {
            "text/html": [
              "<div>\n",
              "<style scoped>\n",
              "    .dataframe tbody tr th:only-of-type {\n",
              "        vertical-align: middle;\n",
              "    }\n",
              "\n",
              "    .dataframe tbody tr th {\n",
              "        vertical-align: top;\n",
              "    }\n",
              "\n",
              "    .dataframe thead th {\n",
              "        text-align: right;\n",
              "    }\n",
              "</style>\n",
              "<table border=\"1\" class=\"dataframe\">\n",
              "  <thead>\n",
              "    <tr style=\"text-align: right;\">\n",
              "      <th></th>\n",
              "      <th>customer_id</th>\n",
              "      <th>converted</th>\n",
              "      <th>customer_segment</th>\n",
              "      <th>gender</th>\n",
              "      <th>age</th>\n",
              "      <th>related_customers</th>\n",
              "      <th>family_size</th>\n",
              "      <th>initial_fee_level</th>\n",
              "      <th>credit_account_id</th>\n",
              "      <th>branch</th>\n",
              "    </tr>\n",
              "  </thead>\n",
              "  <tbody>\n",
              "    <tr>\n",
              "      <th>886</th>\n",
              "      <td>15887</td>\n",
              "      <td>0</td>\n",
              "      <td>12</td>\n",
              "      <td>male</td>\n",
              "      <td>27.0</td>\n",
              "      <td>0</td>\n",
              "      <td>0</td>\n",
              "      <td>26.0</td>\n",
              "      <td>9b2d5b4678781e53038e91ea5324530a03f27dc1d0e5f6...</td>\n",
              "      <td>Helsinki</td>\n",
              "    </tr>\n",
              "    <tr>\n",
              "      <th>887</th>\n",
              "      <td>15888</td>\n",
              "      <td>1</td>\n",
              "      <td>11</td>\n",
              "      <td>female</td>\n",
              "      <td>19.0</td>\n",
              "      <td>0</td>\n",
              "      <td>0</td>\n",
              "      <td>60.0</td>\n",
              "      <td>72294ba1616ddcaee48e56501040e876d26bd0c1839f3c...</td>\n",
              "      <td>Helsinki</td>\n",
              "    </tr>\n",
              "    <tr>\n",
              "      <th>888</th>\n",
              "      <td>15889</td>\n",
              "      <td>0</td>\n",
              "      <td>13</td>\n",
              "      <td>female</td>\n",
              "      <td>NaN</td>\n",
              "      <td>1</td>\n",
              "      <td>2</td>\n",
              "      <td>46.9</td>\n",
              "      <td>9b2d5b4678781e53038e91ea5324530a03f27dc1d0e5f6...</td>\n",
              "      <td>Helsinki</td>\n",
              "    </tr>\n",
              "    <tr>\n",
              "      <th>889</th>\n",
              "      <td>15890</td>\n",
              "      <td>1</td>\n",
              "      <td>11</td>\n",
              "      <td>male</td>\n",
              "      <td>26.0</td>\n",
              "      <td>0</td>\n",
              "      <td>0</td>\n",
              "      <td>60.0</td>\n",
              "      <td>a2b612f45840d6f27b1a73ddae7f50e0bd9c4935903de6...</td>\n",
              "      <td>Tampere</td>\n",
              "    </tr>\n",
              "    <tr>\n",
              "      <th>890</th>\n",
              "      <td>15891</td>\n",
              "      <td>0</td>\n",
              "      <td>13</td>\n",
              "      <td>male</td>\n",
              "      <td>32.0</td>\n",
              "      <td>0</td>\n",
              "      <td>0</td>\n",
              "      <td>15.5</td>\n",
              "      <td>9b2d5b4678781e53038e91ea5324530a03f27dc1d0e5f6...</td>\n",
              "      <td>Turku</td>\n",
              "    </tr>\n",
              "  </tbody>\n",
              "</table>\n",
              "</div>"
            ],
            "text/plain": [
              "     customer_id  ...    branch\n",
              "886        15887  ...  Helsinki\n",
              "887        15888  ...  Helsinki\n",
              "888        15889  ...  Helsinki\n",
              "889        15890  ...   Tampere\n",
              "890        15891  ...     Turku\n",
              "\n",
              "[5 rows x 10 columns]"
            ]
          },
          "metadata": {},
          "execution_count": 7
        }
      ]
    },
    {
      "cell_type": "code",
      "metadata": {
        "colab": {
          "base_uri": "https://localhost:8080/"
        },
        "id": "pUfPLktGJiha",
        "outputId": "8eb517d8-b0cb-4a3a-e7b7-f633e74ff5e1"
      },
      "source": [
        "df.info()"
      ],
      "execution_count": 8,
      "outputs": [
        {
          "output_type": "stream",
          "name": "stdout",
          "text": [
            "<class 'pandas.core.frame.DataFrame'>\n",
            "RangeIndex: 891 entries, 0 to 890\n",
            "Data columns (total 10 columns):\n",
            " #   Column             Non-Null Count  Dtype  \n",
            "---  ------             --------------  -----  \n",
            " 0   customer_id        891 non-null    int64  \n",
            " 1   converted          891 non-null    int64  \n",
            " 2   customer_segment   891 non-null    int64  \n",
            " 3   gender             891 non-null    object \n",
            " 4   age                714 non-null    float64\n",
            " 5   related_customers  891 non-null    int64  \n",
            " 6   family_size        891 non-null    int64  \n",
            " 7   initial_fee_level  891 non-null    float64\n",
            " 8   credit_account_id  891 non-null    object \n",
            " 9   branch             891 non-null    object \n",
            "dtypes: float64(2), int64(5), object(3)\n",
            "memory usage: 69.7+ KB\n"
          ]
        }
      ]
    },
    {
      "cell_type": "code",
      "metadata": {
        "colab": {
          "base_uri": "https://localhost:8080/",
          "height": 297
        },
        "id": "XTbkiHIZJ-Gk",
        "outputId": "bf3cb81f-9f91-41b4-e4e3-099a69c5b45b"
      },
      "source": [
        "df.describe()"
      ],
      "execution_count": 9,
      "outputs": [
        {
          "output_type": "execute_result",
          "data": {
            "text/html": [
              "<div>\n",
              "<style scoped>\n",
              "    .dataframe tbody tr th:only-of-type {\n",
              "        vertical-align: middle;\n",
              "    }\n",
              "\n",
              "    .dataframe tbody tr th {\n",
              "        vertical-align: top;\n",
              "    }\n",
              "\n",
              "    .dataframe thead th {\n",
              "        text-align: right;\n",
              "    }\n",
              "</style>\n",
              "<table border=\"1\" class=\"dataframe\">\n",
              "  <thead>\n",
              "    <tr style=\"text-align: right;\">\n",
              "      <th></th>\n",
              "      <th>customer_id</th>\n",
              "      <th>converted</th>\n",
              "      <th>customer_segment</th>\n",
              "      <th>age</th>\n",
              "      <th>related_customers</th>\n",
              "      <th>family_size</th>\n",
              "      <th>initial_fee_level</th>\n",
              "    </tr>\n",
              "  </thead>\n",
              "  <tbody>\n",
              "    <tr>\n",
              "      <th>count</th>\n",
              "      <td>891.000000</td>\n",
              "      <td>891.000000</td>\n",
              "      <td>891.000000</td>\n",
              "      <td>714.000000</td>\n",
              "      <td>891.000000</td>\n",
              "      <td>891.000000</td>\n",
              "      <td>891.000000</td>\n",
              "    </tr>\n",
              "    <tr>\n",
              "      <th>mean</th>\n",
              "      <td>15446.000000</td>\n",
              "      <td>0.383838</td>\n",
              "      <td>12.308642</td>\n",
              "      <td>29.699118</td>\n",
              "      <td>0.523008</td>\n",
              "      <td>0.381594</td>\n",
              "      <td>64.408416</td>\n",
              "    </tr>\n",
              "    <tr>\n",
              "      <th>std</th>\n",
              "      <td>257.353842</td>\n",
              "      <td>0.486592</td>\n",
              "      <td>0.836071</td>\n",
              "      <td>14.526497</td>\n",
              "      <td>1.102743</td>\n",
              "      <td>0.806057</td>\n",
              "      <td>99.386857</td>\n",
              "    </tr>\n",
              "    <tr>\n",
              "      <th>min</th>\n",
              "      <td>15001.000000</td>\n",
              "      <td>0.000000</td>\n",
              "      <td>11.000000</td>\n",
              "      <td>0.420000</td>\n",
              "      <td>0.000000</td>\n",
              "      <td>0.000000</td>\n",
              "      <td>0.000000</td>\n",
              "    </tr>\n",
              "    <tr>\n",
              "      <th>25%</th>\n",
              "      <td>15223.500000</td>\n",
              "      <td>0.000000</td>\n",
              "      <td>12.000000</td>\n",
              "      <td>20.125000</td>\n",
              "      <td>0.000000</td>\n",
              "      <td>0.000000</td>\n",
              "      <td>15.820800</td>\n",
              "    </tr>\n",
              "    <tr>\n",
              "      <th>50%</th>\n",
              "      <td>15446.000000</td>\n",
              "      <td>0.000000</td>\n",
              "      <td>13.000000</td>\n",
              "      <td>28.000000</td>\n",
              "      <td>0.000000</td>\n",
              "      <td>0.000000</td>\n",
              "      <td>28.908400</td>\n",
              "    </tr>\n",
              "    <tr>\n",
              "      <th>75%</th>\n",
              "      <td>15668.500000</td>\n",
              "      <td>1.000000</td>\n",
              "      <td>13.000000</td>\n",
              "      <td>38.000000</td>\n",
              "      <td>1.000000</td>\n",
              "      <td>0.000000</td>\n",
              "      <td>62.000000</td>\n",
              "    </tr>\n",
              "    <tr>\n",
              "      <th>max</th>\n",
              "      <td>15891.000000</td>\n",
              "      <td>1.000000</td>\n",
              "      <td>13.000000</td>\n",
              "      <td>80.000000</td>\n",
              "      <td>8.000000</td>\n",
              "      <td>6.000000</td>\n",
              "      <td>1024.658400</td>\n",
              "    </tr>\n",
              "  </tbody>\n",
              "</table>\n",
              "</div>"
            ],
            "text/plain": [
              "        customer_id   converted  ...  family_size  initial_fee_level\n",
              "count    891.000000  891.000000  ...   891.000000         891.000000\n",
              "mean   15446.000000    0.383838  ...     0.381594          64.408416\n",
              "std      257.353842    0.486592  ...     0.806057          99.386857\n",
              "min    15001.000000    0.000000  ...     0.000000           0.000000\n",
              "25%    15223.500000    0.000000  ...     0.000000          15.820800\n",
              "50%    15446.000000    0.000000  ...     0.000000          28.908400\n",
              "75%    15668.500000    1.000000  ...     0.000000          62.000000\n",
              "max    15891.000000    1.000000  ...     6.000000        1024.658400\n",
              "\n",
              "[8 rows x 7 columns]"
            ]
          },
          "metadata": {},
          "execution_count": 9
        }
      ]
    },
    {
      "cell_type": "markdown",
      "metadata": {
        "id": "TDlq8XhBAylw"
      },
      "source": [
        "There are some strange numbers in age column, also some missing values."
      ]
    },
    {
      "cell_type": "code",
      "metadata": {
        "colab": {
          "base_uri": "https://localhost:8080/",
          "height": 776
        },
        "id": "CpqV-ADJfVv7",
        "outputId": "1578fda4-4f7e-4b48-80b2-c018886edb6a"
      },
      "source": [
        "plt.figure(figsize=(10,10))\n",
        "sns.heatmap(df.isnull(), cbar = False, cmap = 'YlGnBu')"
      ],
      "execution_count": 10,
      "outputs": [
        {
          "output_type": "execute_result",
          "data": {
            "text/plain": [
              "<matplotlib.axes._subplots.AxesSubplot at 0x7fe18014a0d0>"
            ]
          },
          "metadata": {},
          "execution_count": 10
        },
        {
          "output_type": "display_data",
          "data": {
            "image/png": "[encoded data removed]",
            "text/plain": [
              "<Figure size 720x720 with 1 Axes>"
            ]
          },
          "metadata": {}
        }
      ]
    },
    {
      "cell_type": "code",
      "metadata": {
        "colab": {
          "base_uri": "https://localhost:8080/"
        },
        "id": "7ihafj7YfqU-",
        "outputId": "42f34c7e-5574-4ba0-f75e-e095c972b69c"
      },
      "source": [
        "colstats = {}\n",
        "for col in df.columns:\n",
        "    colstats[col] = [df[col].isnull().sum(),df[col].isnull().sum()*100/df.shape[0],\n",
        "                len(df[col].unique()),len(df[col].unique())*100/df.shape[0]] \n",
        "    \n",
        "stats_col = pd.DataFrame(colstats.values(), index = colstats.keys(),  columns = ['Number of Null','% of Null','Number of Unique','% of Unique'])\n",
        "pd.set_option('precision',2)\n",
        "pd.set_option('display.float_format', lambda x: '%.1f' % x)\n",
        "print(stats_col)"
      ],
      "execution_count": 11,
      "outputs": [
        {
          "output_type": "stream",
          "name": "stdout",
          "text": [
            "                   Number of Null  % of Null  Number of Unique  % of Unique\n",
            "customer_id                     0        0.0               891        100.0\n",
            "converted                       0        0.0                 2          0.2\n",
            "customer_segment                0        0.0                 3          0.3\n",
            "gender                          0        0.0                 2          0.2\n",
            "age                           177       19.9                89         10.0\n",
            "related_customers               0        0.0                 7          0.8\n",
            "family_size                     0        0.0                 7          0.8\n",
            "initial_fee_level               0        0.0               248         27.8\n",
            "credit_account_id               0        0.0               148         16.6\n",
            "branch                          0        0.0                 4          0.4\n"
          ]
        }
      ]
    },
    {
      "cell_type": "code",
      "metadata": {
        "colab": {
          "base_uri": "https://localhost:8080/"
        },
        "id": "xD1CLlPRSsc5",
        "outputId": "1fd55156-2424-432e-d950-cc90afaf0dec"
      },
      "source": [
        "df['converted'].value_counts()"
      ],
      "execution_count": 12,
      "outputs": [
        {
          "output_type": "execute_result",
          "data": {
            "text/plain": [
              "0    549\n",
              "1    342\n",
              "Name: converted, dtype: int64"
            ]
          },
          "metadata": {},
          "execution_count": 12
        }
      ]
    },
    {
      "cell_type": "markdown",
      "metadata": {
        "id": "6uiMTNPGBPrm"
      },
      "source": [
        "There is an imbalance in the output values."
      ]
    },
    {
      "cell_type": "code",
      "metadata": {
        "colab": {
          "base_uri": "https://localhost:8080/"
        },
        "id": "WMRWa70CS7YG",
        "outputId": "6dfe1e85-fd55-498a-c5a4-5c51c4063fdf"
      },
      "source": [
        "df['gender'].value_counts()"
      ],
      "execution_count": 13,
      "outputs": [
        {
          "output_type": "execute_result",
          "data": {
            "text/plain": [
              "male      577\n",
              "female    314\n",
              "Name: gender, dtype: int64"
            ]
          },
          "metadata": {},
          "execution_count": 13
        }
      ]
    },
    {
      "cell_type": "code",
      "metadata": {
        "colab": {
          "base_uri": "https://localhost:8080/"
        },
        "id": "qV1RvcE6Zbr1",
        "outputId": "b88c5f97-7cf3-4f39-e2a0-f2283fe7bcb8"
      },
      "source": [
        "df['customer_segment'].value_counts()"
      ],
      "execution_count": 14,
      "outputs": [
        {
          "output_type": "execute_result",
          "data": {
            "text/plain": [
              "13    491\n",
              "11    216\n",
              "12    184\n",
              "Name: customer_segment, dtype: int64"
            ]
          },
          "metadata": {},
          "execution_count": 14
        }
      ]
    },
    {
      "cell_type": "code",
      "metadata": {
        "colab": {
          "base_uri": "https://localhost:8080/"
        },
        "id": "hjjnFYWyglCt",
        "outputId": "73ae0847-531a-4953-d251-d2f16fa4c4d3"
      },
      "source": [
        "df['branch'].value_counts()"
      ],
      "execution_count": 15,
      "outputs": [
        {
          "output_type": "execute_result",
          "data": {
            "text/plain": [
              "Helsinki    644\n",
              "Tampere     168\n",
              "Turku        77\n",
              ";;;;          2\n",
              "Name: branch, dtype: int64"
            ]
          },
          "metadata": {},
          "execution_count": 15
        }
      ]
    },
    {
      "cell_type": "markdown",
      "metadata": {
        "id": "7eEdKzqREkX-"
      },
      "source": [
        "There is two missing values in branch column too. We will delete them."
      ]
    },
    {
      "cell_type": "code",
      "metadata": {
        "id": "eW1-Qp6hJEUm"
      },
      "source": [
        "df2 = df[df['age'].between(0, 15)]"
      ],
      "execution_count": 16,
      "outputs": []
    },
    {
      "cell_type": "code",
      "metadata": {
        "colab": {
          "base_uri": "https://localhost:8080/"
        },
        "id": "ipnt728kLRUF",
        "outputId": "5a6c8edc-8856-4515-9cb5-84047b0a0a47"
      },
      "source": [
        "df2.shape"
      ],
      "execution_count": 17,
      "outputs": [
        {
          "output_type": "execute_result",
          "data": {
            "text/plain": [
              "(83, 10)"
            ]
          },
          "metadata": {},
          "execution_count": 17
        }
      ]
    },
    {
      "cell_type": "markdown",
      "metadata": {
        "id": "eKLrsPi2Bz3a"
      },
      "source": [
        "There are 83 lines between age (0,15)"
      ]
    },
    {
      "cell_type": "code",
      "metadata": {
        "id": "lrNdm0mUsTwj"
      },
      "source": [
        "df3 = df[df['age'].between(0, 5)]"
      ],
      "execution_count": 18,
      "outputs": []
    },
    {
      "cell_type": "code",
      "metadata": {
        "colab": {
          "base_uri": "https://localhost:8080/"
        },
        "id": "q4Q2s-5bsZgG",
        "outputId": "b2d649c7-526e-4b52-fe11-7c827bb18c4e"
      },
      "source": [
        "df3.shape"
      ],
      "execution_count": 19,
      "outputs": [
        {
          "output_type": "execute_result",
          "data": {
            "text/plain": [
              "(44, 10)"
            ]
          },
          "metadata": {},
          "execution_count": 19
        }
      ]
    },
    {
      "cell_type": "markdown",
      "metadata": {
        "id": "PtvNoeFeEqjE"
      },
      "source": [
        "There are 44 lines between age (0,5). It is a bit strange, because the health apps must be used after 15.\n",
        "(Here, I may need more domain knowledge about data)"
      ]
    },
    {
      "cell_type": "code",
      "metadata": {
        "colab": {
          "base_uri": "https://localhost:8080/"
        },
        "id": "Z6MzS_Nac8_s",
        "outputId": "d7528fb3-699b-4377-d4ce-832e5f78e771"
      },
      "source": [
        "df.mean()"
      ],
      "execution_count": 20,
      "outputs": [
        {
          "output_type": "execute_result",
          "data": {
            "text/plain": [
              "customer_id         15446.0\n",
              "converted               0.4\n",
              "customer_segment       12.3\n",
              "age                    29.7\n",
              "related_customers       0.5\n",
              "family_size             0.4\n",
              "initial_fee_level      64.4\n",
              "dtype: float64"
            ]
          },
          "metadata": {},
          "execution_count": 20
        }
      ]
    },
    {
      "cell_type": "markdown",
      "metadata": {
        "id": "Um0lPB2HCs1N"
      },
      "source": [
        "##Imputation"
      ]
    },
    {
      "cell_type": "markdown",
      "metadata": {
        "id": "n48uT6MqCgS1"
      },
      "source": [
        "I will do mean imputation since i do not want to lose the 20% of the data."
      ]
    },
    {
      "cell_type": "code",
      "metadata": {
        "id": "OcOrRApKjR0D"
      },
      "source": [
        "df = df.fillna(df.mean())"
      ],
      "execution_count": 21,
      "outputs": []
    },
    {
      "cell_type": "code",
      "metadata": {
        "colab": {
          "base_uri": "https://localhost:8080/",
          "height": 224
        },
        "id": "R4_ofMMJj5bt",
        "outputId": "60d2414a-95ba-47e2-f3d7-74e281afa719"
      },
      "source": [
        "df.tail(5)"
      ],
      "execution_count": 22,
      "outputs": [
        {
          "output_type": "execute_result",
          "data": {
            "text/html": [
              "<div>\n",
              "<style scoped>\n",
              "    .dataframe tbody tr th:only-of-type {\n",
              "        vertical-align: middle;\n",
              "    }\n",
              "\n",
              "    .dataframe tbody tr th {\n",
              "        vertical-align: top;\n",
              "    }\n",
              "\n",
              "    .dataframe thead th {\n",
              "        text-align: right;\n",
              "    }\n",
              "</style>\n",
              "<table border=\"1\" class=\"dataframe\">\n",
              "  <thead>\n",
              "    <tr style=\"text-align: right;\">\n",
              "      <th></th>\n",
              "      <th>customer_id</th>\n",
              "      <th>converted</th>\n",
              "      <th>customer_segment</th>\n",
              "      <th>gender</th>\n",
              "      <th>age</th>\n",
              "      <th>related_customers</th>\n",
              "      <th>family_size</th>\n",
              "      <th>initial_fee_level</th>\n",
              "      <th>credit_account_id</th>\n",
              "      <th>branch</th>\n",
              "    </tr>\n",
              "  </thead>\n",
              "  <tbody>\n",
              "    <tr>\n",
              "      <th>886</th>\n",
              "      <td>15887</td>\n",
              "      <td>0</td>\n",
              "      <td>12</td>\n",
              "      <td>male</td>\n",
              "      <td>27.0</td>\n",
              "      <td>0</td>\n",
              "      <td>0</td>\n",
              "      <td>26.0</td>\n",
              "      <td>9b2d5b4678781e53038e91ea5324530a03f27dc1d0e5f6...</td>\n",
              "      <td>Helsinki</td>\n",
              "    </tr>\n",
              "    <tr>\n",
              "      <th>887</th>\n",
              "      <td>15888</td>\n",
              "      <td>1</td>\n",
              "      <td>11</td>\n",
              "      <td>female</td>\n",
              "      <td>19.0</td>\n",
              "      <td>0</td>\n",
              "      <td>0</td>\n",
              "      <td>60.0</td>\n",
              "      <td>72294ba1616ddcaee48e56501040e876d26bd0c1839f3c...</td>\n",
              "      <td>Helsinki</td>\n",
              "    </tr>\n",
              "    <tr>\n",
              "      <th>888</th>\n",
              "      <td>15889</td>\n",
              "      <td>0</td>\n",
              "      <td>13</td>\n",
              "      <td>female</td>\n",
              "      <td>29.7</td>\n",
              "      <td>1</td>\n",
              "      <td>2</td>\n",
              "      <td>46.9</td>\n",
              "      <td>9b2d5b4678781e53038e91ea5324530a03f27dc1d0e5f6...</td>\n",
              "      <td>Helsinki</td>\n",
              "    </tr>\n",
              "    <tr>\n",
              "      <th>889</th>\n",
              "      <td>15890</td>\n",
              "      <td>1</td>\n",
              "      <td>11</td>\n",
              "      <td>male</td>\n",
              "      <td>26.0</td>\n",
              "      <td>0</td>\n",
              "      <td>0</td>\n",
              "      <td>60.0</td>\n",
              "      <td>a2b612f45840d6f27b1a73ddae7f50e0bd9c4935903de6...</td>\n",
              "      <td>Tampere</td>\n",
              "    </tr>\n",
              "    <tr>\n",
              "      <th>890</th>\n",
              "      <td>15891</td>\n",
              "      <td>0</td>\n",
              "      <td>13</td>\n",
              "      <td>male</td>\n",
              "      <td>32.0</td>\n",
              "      <td>0</td>\n",
              "      <td>0</td>\n",
              "      <td>15.5</td>\n",
              "      <td>9b2d5b4678781e53038e91ea5324530a03f27dc1d0e5f6...</td>\n",
              "      <td>Turku</td>\n",
              "    </tr>\n",
              "  </tbody>\n",
              "</table>\n",
              "</div>"
            ],
            "text/plain": [
              "     customer_id  ...    branch\n",
              "886        15887  ...  Helsinki\n",
              "887        15888  ...  Helsinki\n",
              "888        15889  ...  Helsinki\n",
              "889        15890  ...   Tampere\n",
              "890        15891  ...     Turku\n",
              "\n",
              "[5 rows x 10 columns]"
            ]
          },
          "metadata": {},
          "execution_count": 22
        }
      ]
    },
    {
      "cell_type": "markdown",
      "metadata": {
        "id": "ii2gAQ3oDBWs"
      },
      "source": [
        "##Cleaning the absurd data."
      ]
    },
    {
      "cell_type": "markdown",
      "metadata": {
        "id": "7PyTMs30C8a6"
      },
      "source": [
        "I will delete the columns with age under 12."
      ]
    },
    {
      "cell_type": "code",
      "metadata": {
        "id": "7KfWCfHwjU3X"
      },
      "source": [
        "dfnew = df[df['age'].between(12, 80)]"
      ],
      "execution_count": 23,
      "outputs": []
    },
    {
      "cell_type": "code",
      "metadata": {
        "colab": {
          "base_uri": "https://localhost:8080/"
        },
        "id": "0C--_UGSj06Z",
        "outputId": "f83348e7-336b-4f87-82c8-d9a0f6fecc90"
      },
      "source": [
        "dfnew.shape"
      ],
      "execution_count": 24,
      "outputs": [
        {
          "output_type": "execute_result",
          "data": {
            "text/plain": [
              "(823, 10)"
            ]
          },
          "metadata": {},
          "execution_count": 24
        }
      ]
    },
    {
      "cell_type": "code",
      "metadata": {
        "colab": {
          "base_uri": "https://localhost:8080/"
        },
        "id": "frsMxll1Zylr",
        "outputId": "e93cf019-8f74-49bb-cc5f-118ef550a83e"
      },
      "source": [
        "dfnew['family_size'].value_counts()"
      ],
      "execution_count": 25,
      "outputs": [
        {
          "output_type": "execute_result",
          "data": {
            "text/plain": [
              "0    676\n",
              "1     83\n",
              "2     49\n",
              "5      5\n",
              "3      5\n",
              "4      4\n",
              "6      1\n",
              "Name: family_size, dtype: int64"
            ]
          },
          "metadata": {},
          "execution_count": 25
        }
      ]
    },
    {
      "cell_type": "code",
      "metadata": {
        "colab": {
          "base_uri": "https://localhost:8080/"
        },
        "id": "ARBGoreBZ5ga",
        "outputId": "2764bea9-a5a6-4655-db61-26e81e94611b"
      },
      "source": [
        "dfnew['initial_fee_level'].value_counts()"
      ],
      "execution_count": 26,
      "outputs": [
        {
          "output_type": "execute_result",
          "data": {
            "text/plain": [
              "16.1    43\n",
              "26.0    42\n",
              "15.8    38\n",
              "15.5    34\n",
              "52.0    28\n",
              "        ..\n",
              "14.1     1\n",
              "14.3     1\n",
              "31.5     1\n",
              "68.0     1\n",
              "17.4     1\n",
              "Name: initial_fee_level, Length: 242, dtype: int64"
            ]
          },
          "metadata": {},
          "execution_count": 26
        }
      ]
    },
    {
      "cell_type": "code",
      "metadata": {
        "colab": {
          "base_uri": "https://localhost:8080/"
        },
        "id": "vAYTmnlEaBz7",
        "outputId": "d21b970d-dfc7-409f-b3a2-b86670283e01"
      },
      "source": [
        "dfnew['credit_account_id'].value_counts()"
      ],
      "execution_count": 27,
      "outputs": [
        {
          "output_type": "execute_result",
          "data": {
            "text/plain": [
              "9b2d5b4678781e53038e91ea5324530a03f27dc1d0e5f6c9bc9d493a23be9de0    630\n",
              "f0d3a2a5176986eddfdd60b0b303d8fd7c4dfe3060479feee41224ef86f7174a      4\n",
              "16ee13fe0dd987f3ef966e930adebd1e4f5d40f6180ac7eadb416079d5c637f1      3\n",
              "cec0a7de7f8d6fc385250a76e38555a1f45fd5aaeb1a2ba3dbdf90a049bb0681      3\n",
              "3f39d5c348e5b79d06e842c114e6cc571583bbf44e4b0ebfda1a01ec05745d43      3\n",
              "                                                                   ... \n",
              "72d639f06638a8bd2212fe30825432dcfeb6060899122be2bd41ac34a6e87071      1\n",
              "241a58e62224983283f443df870777a779db375012000e524e8c5d42cc4beede      1\n",
              "93e69677a8c96f1c47ce45b15b5170ec77bb5acd22f147dee343bf75fa821fb2      1\n",
              "1b8109664cb6e461f4d7c4ff37c06bae5f3de0a41e500c577bef8b7eca3578ed      1\n",
              "14a839c6693b8068f90616e2fd312dfbefc3a2099b1498093c7e15a8a74aa215      1\n",
              "Name: credit_account_id, Length: 146, dtype: int64"
            ]
          },
          "metadata": {},
          "execution_count": 27
        }
      ]
    },
    {
      "cell_type": "markdown",
      "metadata": {
        "id": "t0t9ysDHDOjn"
      },
      "source": [
        "Cleaning the rows with empty branch."
      ]
    },
    {
      "cell_type": "code",
      "metadata": {
        "id": "loVWGasCmCRo"
      },
      "source": [
        "i = dfnew[(dfnew.branch == ';;;;')].index"
      ],
      "execution_count": 28,
      "outputs": []
    },
    {
      "cell_type": "code",
      "metadata": {
        "id": "cw5xn0DfmTf5"
      },
      "source": [
        "dfnew = dfnew.drop(i)"
      ],
      "execution_count": 29,
      "outputs": []
    },
    {
      "cell_type": "code",
      "metadata": {
        "colab": {
          "base_uri": "https://localhost:8080/"
        },
        "id": "moWU_tALmXEw",
        "outputId": "78c4d905-17e8-4e49-db99-123b5de2baa4"
      },
      "source": [
        "dfnew.shape"
      ],
      "execution_count": 30,
      "outputs": [
        {
          "output_type": "execute_result",
          "data": {
            "text/plain": [
              "(821, 10)"
            ]
          },
          "metadata": {},
          "execution_count": 30
        }
      ]
    },
    {
      "cell_type": "markdown",
      "metadata": {
        "id": "D1JHnyKNDaN1"
      },
      "source": [
        "I feel that credit account id can give us information about the loyalty of the customers. Since if you trust and continue to work with the company you give them your creit account data. I change this part to a categorical variable."
      ]
    },
    {
      "cell_type": "code",
      "metadata": {
        "id": "uyIzZuTvrjQN"
      },
      "source": [
        "for i in dfnew[(dfnew.credit_account_id != '9b2d5b4678781e53038e91ea5324530a03f27dc1d0e5f6c9bc9d493a23be9de0')].index:\n",
        "    dfnew.loc[i, \"credit_account_id\"] = 0"
      ],
      "execution_count": 31,
      "outputs": []
    },
    {
      "cell_type": "code",
      "metadata": {
        "id": "m-PIIaZAvmqY"
      },
      "source": [
        "for i in dfnew[(dfnew.credit_account_id == '9b2d5b4678781e53038e91ea5324530a03f27dc1d0e5f6c9bc9d493a23be9de0')].index:\n",
        "    dfnew.loc[i, \"credit_account_id\"] = 1"
      ],
      "execution_count": 32,
      "outputs": []
    },
    {
      "cell_type": "markdown",
      "metadata": {
        "id": "ZaBOrmDyFFBm"
      },
      "source": [
        "We do not need customer id, delete it."
      ]
    },
    {
      "cell_type": "code",
      "metadata": {
        "id": "jXHrjWthREi4"
      },
      "source": [
        "dfnew.drop('customer_id', axis=1, inplace=True)"
      ],
      "execution_count": 33,
      "outputs": []
    },
    {
      "cell_type": "code",
      "metadata": {
        "colab": {
          "base_uri": "https://localhost:8080/",
          "height": 204
        },
        "id": "ilCgtzOpSYRT",
        "outputId": "b12cea5f-9a8d-46e3-e72d-30bb5c28c2ec"
      },
      "source": [
        "dfnew.head(5)"
      ],
      "execution_count": 34,
      "outputs": [
        {
          "output_type": "execute_result",
          "data": {
            "text/html": [
              "<div>\n",
              "<style scoped>\n",
              "    .dataframe tbody tr th:only-of-type {\n",
              "        vertical-align: middle;\n",
              "    }\n",
              "\n",
              "    .dataframe tbody tr th {\n",
              "        vertical-align: top;\n",
              "    }\n",
              "\n",
              "    .dataframe thead th {\n",
              "        text-align: right;\n",
              "    }\n",
              "</style>\n",
              "<table border=\"1\" class=\"dataframe\">\n",
              "  <thead>\n",
              "    <tr style=\"text-align: right;\">\n",
              "      <th></th>\n",
              "      <th>converted</th>\n",
              "      <th>customer_segment</th>\n",
              "      <th>gender</th>\n",
              "      <th>age</th>\n",
              "      <th>related_customers</th>\n",
              "      <th>family_size</th>\n",
              "      <th>initial_fee_level</th>\n",
              "      <th>credit_account_id</th>\n",
              "      <th>branch</th>\n",
              "    </tr>\n",
              "  </thead>\n",
              "  <tbody>\n",
              "    <tr>\n",
              "      <th>0</th>\n",
              "      <td>0</td>\n",
              "      <td>13</td>\n",
              "      <td>male</td>\n",
              "      <td>22.0</td>\n",
              "      <td>1</td>\n",
              "      <td>0</td>\n",
              "      <td>14.5</td>\n",
              "      <td>1</td>\n",
              "      <td>Helsinki</td>\n",
              "    </tr>\n",
              "    <tr>\n",
              "      <th>1</th>\n",
              "      <td>1</td>\n",
              "      <td>11</td>\n",
              "      <td>female</td>\n",
              "      <td>38.0</td>\n",
              "      <td>1</td>\n",
              "      <td>0</td>\n",
              "      <td>142.6</td>\n",
              "      <td>0</td>\n",
              "      <td>Tampere</td>\n",
              "    </tr>\n",
              "    <tr>\n",
              "      <th>2</th>\n",
              "      <td>1</td>\n",
              "      <td>13</td>\n",
              "      <td>female</td>\n",
              "      <td>26.0</td>\n",
              "      <td>0</td>\n",
              "      <td>0</td>\n",
              "      <td>15.8</td>\n",
              "      <td>1</td>\n",
              "      <td>Helsinki</td>\n",
              "    </tr>\n",
              "    <tr>\n",
              "      <th>3</th>\n",
              "      <td>1</td>\n",
              "      <td>11</td>\n",
              "      <td>female</td>\n",
              "      <td>35.0</td>\n",
              "      <td>1</td>\n",
              "      <td>0</td>\n",
              "      <td>106.2</td>\n",
              "      <td>0</td>\n",
              "      <td>Helsinki</td>\n",
              "    </tr>\n",
              "    <tr>\n",
              "      <th>4</th>\n",
              "      <td>0</td>\n",
              "      <td>13</td>\n",
              "      <td>male</td>\n",
              "      <td>35.0</td>\n",
              "      <td>0</td>\n",
              "      <td>0</td>\n",
              "      <td>16.1</td>\n",
              "      <td>1</td>\n",
              "      <td>Helsinki</td>\n",
              "    </tr>\n",
              "  </tbody>\n",
              "</table>\n",
              "</div>"
            ],
            "text/plain": [
              "   converted  customer_segment  ... credit_account_id    branch\n",
              "0          0                13  ...                 1  Helsinki\n",
              "1          1                11  ...                 0   Tampere\n",
              "2          1                13  ...                 1  Helsinki\n",
              "3          1                11  ...                 0  Helsinki\n",
              "4          0                13  ...                 1  Helsinki\n",
              "\n",
              "[5 rows x 9 columns]"
            ]
          },
          "metadata": {},
          "execution_count": 34
        }
      ]
    },
    {
      "cell_type": "markdown",
      "metadata": {
        "id": "ReArGJi1GoXQ"
      },
      "source": [
        "Lastly, I will turn age column into a a categorical variable: age range. Let''s first look at the distribution of the ages."
      ]
    },
    {
      "cell_type": "code",
      "metadata": {
        "id": "61LPnXBfTU-6",
        "colab": {
          "base_uri": "https://localhost:8080/",
          "height": 299
        },
        "outputId": "dc5d1a00-5134-406d-d097-83fe8b5f4c41"
      },
      "source": [
        "plt.figure(figsize=(12,4))\n",
        "sns.distplot(dfnew['age'].values, bins=5)"
      ],
      "execution_count": 37,
      "outputs": [
        {
          "output_type": "execute_result",
          "data": {
            "text/plain": [
              "<matplotlib.axes._subplots.AxesSubplot at 0x7fe180118d50>"
            ]
          },
          "metadata": {},
          "execution_count": 37
        },
        {
          "output_type": "display_data",
          "data": {
            "image/png": "[encoded data removed]",
            "text/plain": [
              "<Figure size 864x288 with 1 Axes>"
            ]
          },
          "metadata": {}
        }
      ]
    },
    {
      "cell_type": "code",
      "metadata": {
        "id": "5csyXRGeHEig"
      },
      "source": [
        "bins_q = pd.IntervalIndex.from_tuples([(14, 25), (25, 40), (40, 50), (50, 80)])\n",
        "\n",
        "dfnew['age_range'] = pd.cut(dfnew['age'], bins=bins_q)"
      ],
      "execution_count": 38,
      "outputs": []
    },
    {
      "cell_type": "code",
      "metadata": {
        "colab": {
          "base_uri": "https://localhost:8080/",
          "height": 142
        },
        "id": "2_EcS75AHGBF",
        "outputId": "cfbb0431-fc1d-476e-cab1-4b343b938e4e"
      },
      "source": [
        "dfnew.head(3)"
      ],
      "execution_count": 39,
      "outputs": [
        {
          "output_type": "execute_result",
          "data": {
            "text/html": [
              "<div>\n",
              "<style scoped>\n",
              "    .dataframe tbody tr th:only-of-type {\n",
              "        vertical-align: middle;\n",
              "    }\n",
              "\n",
              "    .dataframe tbody tr th {\n",
              "        vertical-align: top;\n",
              "    }\n",
              "\n",
              "    .dataframe thead th {\n",
              "        text-align: right;\n",
              "    }\n",
              "</style>\n",
              "<table border=\"1\" class=\"dataframe\">\n",
              "  <thead>\n",
              "    <tr style=\"text-align: right;\">\n",
              "      <th></th>\n",
              "      <th>converted</th>\n",
              "      <th>customer_segment</th>\n",
              "      <th>gender</th>\n",
              "      <th>age</th>\n",
              "      <th>related_customers</th>\n",
              "      <th>family_size</th>\n",
              "      <th>initial_fee_level</th>\n",
              "      <th>credit_account_id</th>\n",
              "      <th>branch</th>\n",
              "      <th>age_range</th>\n",
              "    </tr>\n",
              "  </thead>\n",
              "  <tbody>\n",
              "    <tr>\n",
              "      <th>0</th>\n",
              "      <td>0</td>\n",
              "      <td>13</td>\n",
              "      <td>male</td>\n",
              "      <td>22.0</td>\n",
              "      <td>1</td>\n",
              "      <td>0</td>\n",
              "      <td>14.5</td>\n",
              "      <td>1</td>\n",
              "      <td>Helsinki</td>\n",
              "      <td>(14, 25]</td>\n",
              "    </tr>\n",
              "    <tr>\n",
              "      <th>1</th>\n",
              "      <td>1</td>\n",
              "      <td>11</td>\n",
              "      <td>female</td>\n",
              "      <td>38.0</td>\n",
              "      <td>1</td>\n",
              "      <td>0</td>\n",
              "      <td>142.6</td>\n",
              "      <td>0</td>\n",
              "      <td>Tampere</td>\n",
              "      <td>(25, 40]</td>\n",
              "    </tr>\n",
              "    <tr>\n",
              "      <th>2</th>\n",
              "      <td>1</td>\n",
              "      <td>13</td>\n",
              "      <td>female</td>\n",
              "      <td>26.0</td>\n",
              "      <td>0</td>\n",
              "      <td>0</td>\n",
              "      <td>15.8</td>\n",
              "      <td>1</td>\n",
              "      <td>Helsinki</td>\n",
              "      <td>(25, 40]</td>\n",
              "    </tr>\n",
              "  </tbody>\n",
              "</table>\n",
              "</div>"
            ],
            "text/plain": [
              "   converted  customer_segment  gender  ...  credit_account_id    branch  age_range\n",
              "0          0                13    male  ...                  1  Helsinki   (14, 25]\n",
              "1          1                11  female  ...                  0   Tampere   (25, 40]\n",
              "2          1                13  female  ...                  1  Helsinki   (25, 40]\n",
              "\n",
              "[3 rows x 10 columns]"
            ]
          },
          "metadata": {},
          "execution_count": 39
        }
      ]
    },
    {
      "cell_type": "markdown",
      "metadata": {
        "id": "BHlsH2ymGCBC"
      },
      "source": [
        "#Different feature selection methods."
      ]
    },
    {
      "cell_type": "markdown",
      "metadata": {
        "id": "wu0YcezsRFRF"
      },
      "source": [
        "##CHI-Square TEST\n",
        "It is a is a statistical test applied to the groups of categorical features to evaluate the likelihood of correlation or association between them using their frequency distribution."
      ]
    },
    {
      "cell_type": "code",
      "metadata": {
        "id": "kkfT37t9Ri2h"
      },
      "source": [
        "X = dfnew[[\"customer_segment\", \"gender\", \"related_customers\", \"family_size\", \"credit_account_id\", \"branch\", \"age_range\"]]\n",
        "y = dfnew[[\"converted\"]]"
      ],
      "execution_count": 40,
      "outputs": []
    },
    {
      "cell_type": "code",
      "metadata": {
        "colab": {
          "base_uri": "https://localhost:8080/",
          "height": 204
        },
        "id": "qyyNb058M8mg",
        "outputId": "c063ab83-8cca-4637-a51c-1863bf6b16ad"
      },
      "source": [
        "X.head(5)"
      ],
      "execution_count": 41,
      "outputs": [
        {
          "output_type": "execute_result",
          "data": {
            "text/html": [
              "<div>\n",
              "<style scoped>\n",
              "    .dataframe tbody tr th:only-of-type {\n",
              "        vertical-align: middle;\n",
              "    }\n",
              "\n",
              "    .dataframe tbody tr th {\n",
              "        vertical-align: top;\n",
              "    }\n",
              "\n",
              "    .dataframe thead th {\n",
              "        text-align: right;\n",
              "    }\n",
              "</style>\n",
              "<table border=\"1\" class=\"dataframe\">\n",
              "  <thead>\n",
              "    <tr style=\"text-align: right;\">\n",
              "      <th></th>\n",
              "      <th>customer_segment</th>\n",
              "      <th>gender</th>\n",
              "      <th>related_customers</th>\n",
              "      <th>family_size</th>\n",
              "      <th>credit_account_id</th>\n",
              "      <th>branch</th>\n",
              "      <th>age_range</th>\n",
              "    </tr>\n",
              "  </thead>\n",
              "  <tbody>\n",
              "    <tr>\n",
              "      <th>0</th>\n",
              "      <td>13</td>\n",
              "      <td>male</td>\n",
              "      <td>1</td>\n",
              "      <td>0</td>\n",
              "      <td>1</td>\n",
              "      <td>Helsinki</td>\n",
              "      <td>(14, 25]</td>\n",
              "    </tr>\n",
              "    <tr>\n",
              "      <th>1</th>\n",
              "      <td>11</td>\n",
              "      <td>female</td>\n",
              "      <td>1</td>\n",
              "      <td>0</td>\n",
              "      <td>0</td>\n",
              "      <td>Tampere</td>\n",
              "      <td>(25, 40]</td>\n",
              "    </tr>\n",
              "    <tr>\n",
              "      <th>2</th>\n",
              "      <td>13</td>\n",
              "      <td>female</td>\n",
              "      <td>0</td>\n",
              "      <td>0</td>\n",
              "      <td>1</td>\n",
              "      <td>Helsinki</td>\n",
              "      <td>(25, 40]</td>\n",
              "    </tr>\n",
              "    <tr>\n",
              "      <th>3</th>\n",
              "      <td>11</td>\n",
              "      <td>female</td>\n",
              "      <td>1</td>\n",
              "      <td>0</td>\n",
              "      <td>0</td>\n",
              "      <td>Helsinki</td>\n",
              "      <td>(25, 40]</td>\n",
              "    </tr>\n",
              "    <tr>\n",
              "      <th>4</th>\n",
              "      <td>13</td>\n",
              "      <td>male</td>\n",
              "      <td>0</td>\n",
              "      <td>0</td>\n",
              "      <td>1</td>\n",
              "      <td>Helsinki</td>\n",
              "      <td>(25, 40]</td>\n",
              "    </tr>\n",
              "  </tbody>\n",
              "</table>\n",
              "</div>"
            ],
            "text/plain": [
              "   customer_segment  gender  ...    branch  age_range\n",
              "0                13    male  ...  Helsinki   (14, 25]\n",
              "1                11  female  ...   Tampere   (25, 40]\n",
              "2                13  female  ...  Helsinki   (25, 40]\n",
              "3                11  female  ...  Helsinki   (25, 40]\n",
              "4                13    male  ...  Helsinki   (25, 40]\n",
              "\n",
              "[5 rows x 7 columns]"
            ]
          },
          "metadata": {},
          "execution_count": 41
        }
      ]
    },
    {
      "cell_type": "code",
      "metadata": {
        "colab": {
          "base_uri": "https://localhost:8080/",
          "height": 204
        },
        "id": "uRms9icUNOGm",
        "outputId": "dc5dc9d5-433f-40d1-9c44-2465824c6017"
      },
      "source": [
        "y.head(5)"
      ],
      "execution_count": 42,
      "outputs": [
        {
          "output_type": "execute_result",
          "data": {
            "text/html": [
              "<div>\n",
              "<style scoped>\n",
              "    .dataframe tbody tr th:only-of-type {\n",
              "        vertical-align: middle;\n",
              "    }\n",
              "\n",
              "    .dataframe tbody tr th {\n",
              "        vertical-align: top;\n",
              "    }\n",
              "\n",
              "    .dataframe thead th {\n",
              "        text-align: right;\n",
              "    }\n",
              "</style>\n",
              "<table border=\"1\" class=\"dataframe\">\n",
              "  <thead>\n",
              "    <tr style=\"text-align: right;\">\n",
              "      <th></th>\n",
              "      <th>converted</th>\n",
              "    </tr>\n",
              "  </thead>\n",
              "  <tbody>\n",
              "    <tr>\n",
              "      <th>0</th>\n",
              "      <td>0</td>\n",
              "    </tr>\n",
              "    <tr>\n",
              "      <th>1</th>\n",
              "      <td>1</td>\n",
              "    </tr>\n",
              "    <tr>\n",
              "      <th>2</th>\n",
              "      <td>1</td>\n",
              "    </tr>\n",
              "    <tr>\n",
              "      <th>3</th>\n",
              "      <td>1</td>\n",
              "    </tr>\n",
              "    <tr>\n",
              "      <th>4</th>\n",
              "      <td>0</td>\n",
              "    </tr>\n",
              "  </tbody>\n",
              "</table>\n",
              "</div>"
            ],
            "text/plain": [
              "   converted\n",
              "0          0\n",
              "1          1\n",
              "2          1\n",
              "3          1\n",
              "4          0"
            ]
          },
          "metadata": {},
          "execution_count": 42
        }
      ]
    },
    {
      "cell_type": "code",
      "metadata": {
        "id": "AT8cvM0fPHmc"
      },
      "source": [
        "X = X.astype(str)"
      ],
      "execution_count": 43,
      "outputs": []
    },
    {
      "cell_type": "code",
      "metadata": {
        "id": "X821tQVNPzzR"
      },
      "source": [
        "from sklearn.model_selection import train_test_split\n",
        "from sklearn.preprocessing import LabelEncoder\n",
        "from sklearn.preprocessing import OrdinalEncoder\n",
        "from sklearn.preprocessing import OneHotEncoder"
      ],
      "execution_count": 44,
      "outputs": []
    },
    {
      "cell_type": "code",
      "metadata": {
        "id": "cUc5bhHHPiuh"
      },
      "source": [
        "X_train, X_test, y_train, y_test = train_test_split(X, y, test_size=0.30, random_state=1)"
      ],
      "execution_count": 45,
      "outputs": []
    },
    {
      "cell_type": "code",
      "metadata": {
        "colab": {
          "base_uri": "https://localhost:8080/"
        },
        "id": "l70JurAiQPt_",
        "outputId": "ea542217-39fa-4293-ecb1-5c583a4cb3c4"
      },
      "source": [
        "print('Train', X_train.shape, y_train.shape)\n",
        "print('Test', X_test.shape, y_test.shape)"
      ],
      "execution_count": 46,
      "outputs": [
        {
          "output_type": "stream",
          "name": "stdout",
          "text": [
            "Train (574, 7) (574, 1)\n",
            "Test (247, 7) (247, 1)\n"
          ]
        }
      ]
    },
    {
      "cell_type": "code",
      "metadata": {
        "id": "aWBBL6GzQZLx"
      },
      "source": [
        "def prepare_inputs(X_train, X_test):\n",
        "\toe = OneHotEncoder()\n",
        "\toe.fit(X_train)\n",
        "\tX_train_enc = oe.transform(X_train)\n",
        "\tX_test_enc = oe.transform(X_test)\n",
        "\treturn X_train_enc, X_test_enc"
      ],
      "execution_count": 47,
      "outputs": []
    },
    {
      "cell_type": "code",
      "metadata": {
        "id": "uV0Zz9oORKms"
      },
      "source": [
        "X_train_enc, X_test_enc = prepare_inputs(X_train, X_test)"
      ],
      "execution_count": 48,
      "outputs": []
    },
    {
      "cell_type": "markdown",
      "metadata": {
        "id": "WFag4Y86JNmD"
      },
      "source": [
        "The scikit-learn machine library provides an implementation of the chi-squared test in the chi2() function. This function can be used in a feature selection strategy, such as selecting the top k most relevant features (largest values) via the SelectKBest class."
      ]
    },
    {
      "cell_type": "code",
      "metadata": {
        "id": "02NyyZDrRKW8"
      },
      "source": [
        "from sklearn.feature_selection import SelectKBest\n",
        "from sklearn.feature_selection import chi2\n",
        "from matplotlib import pyplot"
      ],
      "execution_count": 49,
      "outputs": []
    },
    {
      "cell_type": "code",
      "metadata": {
        "id": "cSAhD2-YSnvS"
      },
      "source": [
        "def select_features(X_train, y_train, X_test):\n",
        "\tfs = SelectKBest(score_func=chi2, k='all')\n",
        "\tfs.fit(X_train, y_train)\n",
        "\tX_train_fs = fs.transform(X_train)\n",
        "\tX_test_fs = fs.transform(X_test)\n",
        "\treturn X_train_fs, X_test_fs, fs"
      ],
      "execution_count": 50,
      "outputs": []
    },
    {
      "cell_type": "code",
      "metadata": {
        "colab": {
          "base_uri": "https://localhost:8080/",
          "height": 775
        },
        "id": "bMQIofE7TOqt",
        "outputId": "ab8c8975-1b73-4559-ea5b-bdfa67725604"
      },
      "source": [
        "X_train_fs, X_test_fs, fs = select_features(X_train_enc, y_train, X_test_enc)\n",
        "# what are scores for the features\n",
        "for i in range(len(fs.scores_)):\n",
        "\tprint('Feature %d: %f' % (i, fs.scores_[i]))\n",
        "# plot the scores\n",
        "pyplot.bar([i for i in range(len(fs.scores_))], fs.scores_)\n",
        "pyplot.show()"
      ],
      "execution_count": 51,
      "outputs": [
        {
          "output_type": "stream",
          "name": "stdout",
          "text": [
            "Feature 0: 45.743113\n",
            "Feature 1: 0.059083\n",
            "Feature 2: 24.295024\n",
            "Feature 3: 121.491292\n",
            "Feature 4: 61.542833\n",
            "Feature 5: 3.592248\n",
            "Feature 6: 10.526618\n",
            "Feature 7: 0.186085\n",
            "Feature 8: 5.046729\n",
            "Feature 9: 0.138344\n",
            "Feature 10: 0.594444\n",
            "Feature 11: 3.566667\n",
            "Feature 12: 1.822730\n",
            "Feature 13: 5.743310\n",
            "Feature 14: 4.451125\n",
            "Feature 15: 2.433658\n",
            "Feature 16: 2.377778\n",
            "Feature 17: 0.258061\n",
            "Feature 18: 0.594444\n",
            "Feature 19: 45.081062\n",
            "Feature 20: 13.330969\n",
            "Feature 21: 4.773117\n",
            "Feature 22: 10.618776\n",
            "Feature 23: 1.184666\n",
            "Feature 24: 0.030339\n",
            "Feature 25: 0.029550\n",
            "Feature 26: 0.245102\n",
            "Feature 27: 0.057377\n",
            "Feature 28: 1.180841\n"
          ]
        },
        {
          "output_type": "display_data",
          "data": {
            "image/png": "[encoded data removed]",
            "text/plain": [
              "<Figure size 432x288 with 1 Axes>"
            ]
          },
          "metadata": {}
        }
      ]
    },
    {
      "cell_type": "markdown",
      "metadata": {
        "id": "YGTYrBQkJaF4"
      },
      "source": [
        "Since we make the features one hot encoded, we have 28 features now. It seems that customer segment, gender and credit account have large affect on the output value."
      ]
    },
    {
      "cell_type": "markdown",
      "metadata": {
        "id": "aPJ4gZHXMrvS"
      },
      "source": [
        "I want to try it with ordinal encoding. Some variables in the data are suitable with this encoding."
      ]
    },
    {
      "cell_type": "code",
      "metadata": {
        "id": "1uNMLxXkUAV9"
      },
      "source": [
        "def prepare_inputs2(X_train, X_test):\n",
        "\toe = OrdinalEncoder()\n",
        "\toe.fit(X_train)\n",
        "\tX_train_enc = oe.transform(X_train)\n",
        "\tX_test_enc = oe.transform(X_test)\n",
        "\treturn X_train_enc, X_test_enc"
      ],
      "execution_count": 52,
      "outputs": []
    },
    {
      "cell_type": "code",
      "metadata": {
        "id": "d8gBc9gJU6NK"
      },
      "source": [
        "X_train_enc, X_test_enc = prepare_inputs2(X_train, X_test)"
      ],
      "execution_count": 53,
      "outputs": []
    },
    {
      "cell_type": "code",
      "metadata": {
        "colab": {
          "base_uri": "https://localhost:8080/",
          "height": 401
        },
        "id": "x6ghMllWVICI",
        "outputId": "14cd5aa9-e2dd-4b4c-a7c2-d1c017aa3301"
      },
      "source": [
        "X_train_fs, X_test_fs, fs = select_features(X_train_enc, y_train, X_test_enc)\n",
        "# what are scores for the features\n",
        "for i in range(len(fs.scores_)):\n",
        "\tprint('Feature %d: %f' % (i, fs.scores_[i]))\n",
        "# plot the scores\n",
        "pyplot.bar([i for i in range(len(fs.scores_))], fs.scores_)\n",
        "pyplot.show()"
      ],
      "execution_count": 54,
      "outputs": [
        {
          "output_type": "stream",
          "name": "stdout",
          "text": [
            "Feature 0: 39.901094\n",
            "Feature 1: 61.542833\n",
            "Feature 2: 2.430977\n",
            "Feature 3: 5.220726\n",
            "Feature 4: 13.330969\n",
            "Feature 5: 11.720108\n",
            "Feature 6: 0.221257\n"
          ]
        },
        {
          "output_type": "display_data",
          "data": {
            "image/png": "[encoded data removed]",
            "text/plain": [
              "<Figure size 432x288 with 1 Axes>"
            ]
          },
          "metadata": {}
        }
      ]
    },
    {
      "cell_type": "markdown",
      "metadata": {
        "id": "s85cJ6ksM-5N"
      },
      "source": [
        "This gives similar results: gender, customer segment, credit account and branch are dominant features in descending order."
      ]
    },
    {
      "cell_type": "code",
      "metadata": {
        "id": "_x1iRlYdXCzA"
      },
      "source": [
        "from sklearn.feature_selection import mutual_info_classif"
      ],
      "execution_count": 57,
      "outputs": []
    },
    {
      "cell_type": "markdown",
      "metadata": {
        "id": "ExA9WMgKN-Qt"
      },
      "source": [
        "Mutual information from the field of information theory is the application of information gain (typically used in the construction of decision trees) to feature selection"
      ]
    },
    {
      "cell_type": "code",
      "metadata": {
        "id": "z1mXEWi-WaT3"
      },
      "source": [
        "def select_features3(X_train, y_train, X_test):\n",
        "\tfs = SelectKBest(score_func=mutual_info_classif, k='all')\n",
        "\tfs.fit(X_train, y_train)\n",
        "\tX_train_fs = fs.transform(X_train)\n",
        "\tX_test_fs = fs.transform(X_test)\n",
        "\treturn X_train_fs, X_test_fs, fs"
      ],
      "execution_count": 55,
      "outputs": []
    },
    {
      "cell_type": "code",
      "metadata": {
        "colab": {
          "base_uri": "https://localhost:8080/",
          "height": 401
        },
        "id": "Yr-DRxjrWp6D",
        "outputId": "1ddf1b87-690f-4483-a523-5fb70d51d760"
      },
      "source": [
        "X_train_fs, X_test_fs, fs = select_features3(X_train_enc, y_train, X_test_enc)\n",
        "# what are scores for the features\n",
        "for i in range(len(fs.scores_)):\n",
        "\tprint('Feature %d: %f' % (i, fs.scores_[i]))\n",
        "# plot the scores\n",
        "pyplot.bar([i for i in range(len(fs.scores_))], fs.scores_)\n",
        "pyplot.show()"
      ],
      "execution_count": 58,
      "outputs": [
        {
          "output_type": "stream",
          "name": "stdout",
          "text": [
            "Feature 0: 0.038391\n",
            "Feature 1: 0.161592\n",
            "Feature 2: 0.000000\n",
            "Feature 3: 0.009526\n",
            "Feature 4: 0.043232\n",
            "Feature 5: 0.014291\n",
            "Feature 6: 0.000000\n"
          ]
        },
        {
          "output_type": "display_data",
          "data": {
            "image/png": "[encoded data removed]",
            "text/plain": [
              "<Figure size 432x288 with 1 Axes>"
            ]
          },
          "metadata": {}
        }
      ]
    },
    {
      "cell_type": "markdown",
      "metadata": {
        "id": "O4Ec-5EVOoRo"
      },
      "source": [
        "Again, this is telling us that gender, customer segmentcredit account and branch are important features. "
      ]
    },
    {
      "cell_type": "markdown",
      "metadata": {
        "id": "qoo4Ls6iO3lM"
      },
      "source": [
        "##Logistic regression model"
      ]
    },
    {
      "cell_type": "code",
      "metadata": {
        "id": "hloIL-whYwzf"
      },
      "source": [
        "from sklearn.linear_model import LogisticRegression\n",
        "from sklearn.metrics import accuracy_score"
      ],
      "execution_count": 59,
      "outputs": []
    },
    {
      "cell_type": "code",
      "metadata": {
        "colab": {
          "base_uri": "https://localhost:8080/"
        },
        "id": "EM21vzp0YqTU",
        "outputId": "62ec17e2-db1d-473f-d771-8324f79e6d67"
      },
      "source": [
        "model = LogisticRegression(solver='lbfgs')\n",
        "model.fit(X_train_enc, y_train)\n",
        "# evaluate the model\n",
        "yhat = model.predict(X_test_enc)\n",
        "# evaluate predictions\n",
        "accuracy = accuracy_score(y_test, yhat)\n",
        "print('Accuracy: %.2f' % (accuracy*100))"
      ],
      "execution_count": 60,
      "outputs": [
        {
          "output_type": "stream",
          "name": "stdout",
          "text": [
            "Accuracy: 85.02\n"
          ]
        }
      ]
    },
    {
      "cell_type": "code",
      "metadata": {
        "id": "V-H-xZLIegUi"
      },
      "source": [
        "def select_features(X_train, y_train, X_test):\n",
        "\tfs = SelectKBest(score_func=chi2, k=4)\n",
        "\tfs.fit(X_train, y_train)\n",
        "\tX_train_fs = fs.transform(X_train)\n",
        "\tX_test_fs = fs.transform(X_test)\n",
        "\treturn X_train_fs, X_test_fs"
      ],
      "execution_count": 61,
      "outputs": []
    },
    {
      "cell_type": "code",
      "metadata": {
        "id": "lL2wPwP3ewm4"
      },
      "source": [
        "X_train_fs, X_test_fs = select_features(X_train_enc, y_train, X_test_enc)"
      ],
      "execution_count": 62,
      "outputs": []
    },
    {
      "cell_type": "code",
      "metadata": {
        "colab": {
          "base_uri": "https://localhost:8080/"
        },
        "id": "kU8i8Va2e7cp",
        "outputId": "681c6ad8-fc61-474a-8a2d-ea2375c6b457"
      },
      "source": [
        "model = LogisticRegression(solver='lbfgs')\n",
        "model.fit(X_train_fs, y_train)\n",
        "# evaluate the model\n",
        "yhat = model.predict(X_test_fs)\n",
        "# evaluate predictions\n",
        "accuracy = accuracy_score(y_test, yhat)\n",
        "print('Accuracy: %.2f' % (accuracy*100))"
      ],
      "execution_count": 63,
      "outputs": [
        {
          "output_type": "stream",
          "name": "stdout",
          "text": [
            "Accuracy: 83.00\n"
          ]
        }
      ]
    },
    {
      "cell_type": "code",
      "metadata": {
        "id": "aiU2heitfbgZ"
      },
      "source": [
        "def select_features(X_train, y_train, X_test):\n",
        "\tfs = SelectKBest(score_func=mutual_info_classif, k=4)\n",
        "\tfs.fit(X_train, y_train)\n",
        "\tX_train_fs = fs.transform(X_train)\n",
        "\tX_test_fs = fs.transform(X_test)\n",
        "\treturn X_train_fs, X_test_fs"
      ],
      "execution_count": 64,
      "outputs": []
    },
    {
      "cell_type": "code",
      "metadata": {
        "colab": {
          "base_uri": "https://localhost:8080/"
        },
        "id": "DV6MZWUdfwhk",
        "outputId": "3c5a62d8-9167-415f-a763-722a7319c043"
      },
      "source": [
        "X_train_fs, X_test_fs = select_features(X_train_enc, y_train, X_test_enc)\n",
        "# fit the model\n",
        "model = LogisticRegression(solver='lbfgs')\n",
        "model.fit(X_train_fs, y_train)\n",
        "# evaluate the model\n",
        "yhat = model.predict(X_test_fs)\n",
        "# evaluate predictions\n",
        "accuracy = accuracy_score(y_test, yhat)\n",
        "print('Accuracy: %.2f' % (accuracy*100))"
      ],
      "execution_count": 65,
      "outputs": [
        {
          "output_type": "stream",
          "name": "stdout",
          "text": [
            "Accuracy: 83.81\n"
          ]
        }
      ]
    },
    {
      "cell_type": "markdown",
      "metadata": {
        "id": "A-88gdUHQBGF"
      },
      "source": [
        "From computational perspective, this data points and 8 features for logistic regression is nothing, i.e., the computer can return results in seconds.\n",
        "\n",
        "On the other and, if you do feature selection, in most cases, the performance (classification accuracy) will be worse. This is because, intuitively, more information does not hurt, even the feature is completely irrelevant to the label, the algorithm will just set the coefficient to zero.\n",
        "In here our focus is interpratation of features not classification accuracy, of course.\n"
      ]
    },
    {
      "cell_type": "code",
      "metadata": {
        "colab": {
          "base_uri": "https://localhost:8080/"
        },
        "id": "0_BC5h5UgISO",
        "outputId": "d7e6d76e-f894-4669-db38-0f87fa041d1d"
      },
      "source": [
        "dfnew['converted'].value_counts()"
      ],
      "execution_count": 67,
      "outputs": [
        {
          "output_type": "execute_result",
          "data": {
            "text/plain": [
              "0    520\n",
              "1    301\n",
              "Name: converted, dtype: int64"
            ]
          },
          "metadata": {},
          "execution_count": 67
        }
      ]
    },
    {
      "cell_type": "code",
      "metadata": {
        "id": "A7a9owZgggyH"
      },
      "source": [
        "from sklearn.metrics import confusion_matrix"
      ],
      "execution_count": 66,
      "outputs": []
    },
    {
      "cell_type": "code",
      "metadata": {
        "colab": {
          "base_uri": "https://localhost:8080/"
        },
        "id": "ZI3Kh0q3hYuO",
        "outputId": "e3e268de-a002-434b-d2e0-383a13fd887f"
      },
      "source": [
        "confusion_matrix(yhat, y_test, labels=[1,0])"
      ],
      "execution_count": 68,
      "outputs": [
        {
          "output_type": "execute_result",
          "data": {
            "text/plain": [
              "array([[ 66,  19],\n",
              "       [ 21, 141]])"
            ]
          },
          "metadata": {},
          "execution_count": 68
        }
      ]
    },
    {
      "cell_type": "code",
      "metadata": {
        "colab": {
          "base_uri": "https://localhost:8080/"
        },
        "id": "XbAR3DmPTAY-",
        "outputId": "88aa8590-1e48-4239-ab45-f6a4edfc7727"
      },
      "source": [
        "from sklearn.metrics import recall_score\n",
        "recall_score(y_test, yhat)"
      ],
      "execution_count": 70,
      "outputs": [
        {
          "output_type": "execute_result",
          "data": {
            "text/plain": [
              "0.7586206896551724"
            ]
          },
          "metadata": {},
          "execution_count": 70
        }
      ]
    },
    {
      "cell_type": "markdown",
      "metadata": {
        "id": "bTEFQWpPTkax"
      },
      "source": [
        "I am guessing thet this data set is for a churn modelling. If it is so, this is the measure we really care about, because we want to miss as few of the true Churn cases as possible. In here our main focus is feature selection."
      ]
    },
    {
      "cell_type": "markdown",
      "metadata": {
        "id": "UYh0oObf85Yy"
      },
      "source": [
        "##XG-boost\n",
        "\n",
        "I will add here the numeriacal feature initial fee  and I want to look all categorcal and numerical features together. I will use XG-BOOST. A benefit of using ensembles of decision tree methods like gradient boosting is that they can automatically provide estimates of feature importance from a trained predictive model."
      ]
    },
    {
      "cell_type": "code",
      "metadata": {
        "colab": {
          "base_uri": "https://localhost:8080/",
          "height": 142
        },
        "id": "jBxJbGFjIpN2",
        "outputId": "c780d1dc-24b8-4167-d645-4be1560c29a9"
      },
      "source": [
        "dfnew.head(3)"
      ],
      "execution_count": 75,
      "outputs": [
        {
          "output_type": "execute_result",
          "data": {
            "text/html": [
              "<div>\n",
              "<style scoped>\n",
              "    .dataframe tbody tr th:only-of-type {\n",
              "        vertical-align: middle;\n",
              "    }\n",
              "\n",
              "    .dataframe tbody tr th {\n",
              "        vertical-align: top;\n",
              "    }\n",
              "\n",
              "    .dataframe thead th {\n",
              "        text-align: right;\n",
              "    }\n",
              "</style>\n",
              "<table border=\"1\" class=\"dataframe\">\n",
              "  <thead>\n",
              "    <tr style=\"text-align: right;\">\n",
              "      <th></th>\n",
              "      <th>converted</th>\n",
              "      <th>customer_segment</th>\n",
              "      <th>gender</th>\n",
              "      <th>age</th>\n",
              "      <th>related_customers</th>\n",
              "      <th>family_size</th>\n",
              "      <th>initial_fee_level</th>\n",
              "      <th>credit_account_id</th>\n",
              "      <th>branch</th>\n",
              "      <th>age_range</th>\n",
              "    </tr>\n",
              "  </thead>\n",
              "  <tbody>\n",
              "    <tr>\n",
              "      <th>0</th>\n",
              "      <td>0</td>\n",
              "      <td>13</td>\n",
              "      <td>male</td>\n",
              "      <td>22.0</td>\n",
              "      <td>1</td>\n",
              "      <td>0</td>\n",
              "      <td>14.5</td>\n",
              "      <td>1</td>\n",
              "      <td>Helsinki</td>\n",
              "      <td>(14, 25]</td>\n",
              "    </tr>\n",
              "    <tr>\n",
              "      <th>1</th>\n",
              "      <td>1</td>\n",
              "      <td>11</td>\n",
              "      <td>female</td>\n",
              "      <td>38.0</td>\n",
              "      <td>1</td>\n",
              "      <td>0</td>\n",
              "      <td>142.6</td>\n",
              "      <td>0</td>\n",
              "      <td>Tampere</td>\n",
              "      <td>(25, 40]</td>\n",
              "    </tr>\n",
              "    <tr>\n",
              "      <th>2</th>\n",
              "      <td>1</td>\n",
              "      <td>13</td>\n",
              "      <td>female</td>\n",
              "      <td>26.0</td>\n",
              "      <td>0</td>\n",
              "      <td>0</td>\n",
              "      <td>15.8</td>\n",
              "      <td>1</td>\n",
              "      <td>Helsinki</td>\n",
              "      <td>(25, 40]</td>\n",
              "    </tr>\n",
              "  </tbody>\n",
              "</table>\n",
              "</div>"
            ],
            "text/plain": [
              "   converted  customer_segment  gender  ...  credit_account_id    branch  age_range\n",
              "0          0                13    male  ...                  1  Helsinki   (14, 25]\n",
              "1          1                11  female  ...                  0   Tampere   (25, 40]\n",
              "2          1                13  female  ...                  1  Helsinki   (25, 40]\n",
              "\n",
              "[3 rows x 10 columns]"
            ]
          },
          "metadata": {},
          "execution_count": 75
        }
      ]
    },
    {
      "cell_type": "markdown",
      "metadata": {
        "id": "uOtWQ1QXXZXT"
      },
      "source": [
        "Here I am using another method for encoding."
      ]
    },
    {
      "cell_type": "code",
      "metadata": {
        "id": "76pTr9ThecbJ"
      },
      "source": [
        "df = pd.concat([dfnew,pd.get_dummies(dfnew['customer_segment'], prefix='cs')],axis=1).drop(['customer_segment'],axis=1)\n",
        "df = pd.concat([df,pd.get_dummies(dfnew['related_customers'], prefix='rcust')],axis=1).drop(['related_customers'],axis=1)\n",
        "df = pd.concat([df,pd.get_dummies(dfnew['gender'], prefix='g')],axis=1).drop(['gender'],axis=1)\n",
        "df = pd.concat([df,pd.get_dummies(dfnew['family_size'], prefix='fs')],axis=1).drop(['family_size'],axis=1)\n",
        "df = pd.concat([df,pd.get_dummies(dfnew['branch'], prefix='br')],axis=1).drop(['branch'],axis=1)\n",
        "df = pd.concat([df,pd.get_dummies(dfnew['age_range'], prefix='age')],axis=1).drop(['age_range'],axis=1)"
      ],
      "execution_count": 76,
      "outputs": []
    },
    {
      "cell_type": "code",
      "metadata": {
        "id": "u1Pq6gMefTXt"
      },
      "source": [
        "df.drop('age', axis=1, inplace=True)"
      ],
      "execution_count": 77,
      "outputs": []
    },
    {
      "cell_type": "code",
      "metadata": {
        "colab": {
          "base_uri": "https://localhost:8080/",
          "height": 179
        },
        "id": "BaU9GkiTep-a",
        "outputId": "ec76bbbc-67d7-4397-c734-3ca0214047bc"
      },
      "source": [
        "df.head(3)"
      ],
      "execution_count": 78,
      "outputs": [
        {
          "output_type": "execute_result",
          "data": {
            "text/html": [
              "<div>\n",
              "<style scoped>\n",
              "    .dataframe tbody tr th:only-of-type {\n",
              "        vertical-align: middle;\n",
              "    }\n",
              "\n",
              "    .dataframe tbody tr th {\n",
              "        vertical-align: top;\n",
              "    }\n",
              "\n",
              "    .dataframe thead th {\n",
              "        text-align: right;\n",
              "    }\n",
              "</style>\n",
              "<table border=\"1\" class=\"dataframe\">\n",
              "  <thead>\n",
              "    <tr style=\"text-align: right;\">\n",
              "      <th></th>\n",
              "      <th>converted</th>\n",
              "      <th>initial_fee_level</th>\n",
              "      <th>credit_account_id</th>\n",
              "      <th>cs_11</th>\n",
              "      <th>cs_12</th>\n",
              "      <th>cs_13</th>\n",
              "      <th>rcust_0</th>\n",
              "      <th>rcust_1</th>\n",
              "      <th>rcust_2</th>\n",
              "      <th>rcust_3</th>\n",
              "      <th>rcust_4</th>\n",
              "      <th>rcust_5</th>\n",
              "      <th>rcust_8</th>\n",
              "      <th>g_female</th>\n",
              "      <th>g_male</th>\n",
              "      <th>fs_0</th>\n",
              "      <th>fs_1</th>\n",
              "      <th>fs_2</th>\n",
              "      <th>fs_3</th>\n",
              "      <th>fs_4</th>\n",
              "      <th>fs_5</th>\n",
              "      <th>fs_6</th>\n",
              "      <th>br_Helsinki</th>\n",
              "      <th>br_Tampere</th>\n",
              "      <th>br_Turku</th>\n",
              "      <th>age_(14, 25]</th>\n",
              "      <th>age_(25, 40]</th>\n",
              "      <th>age_(40, 50]</th>\n",
              "      <th>age_(50, 80]</th>\n",
              "    </tr>\n",
              "  </thead>\n",
              "  <tbody>\n",
              "    <tr>\n",
              "      <th>0</th>\n",
              "      <td>0</td>\n",
              "      <td>14.5</td>\n",
              "      <td>1</td>\n",
              "      <td>0</td>\n",
              "      <td>0</td>\n",
              "      <td>1</td>\n",
              "      <td>0</td>\n",
              "      <td>1</td>\n",
              "      <td>0</td>\n",
              "      <td>0</td>\n",
              "      <td>0</td>\n",
              "      <td>0</td>\n",
              "      <td>0</td>\n",
              "      <td>0</td>\n",
              "      <td>1</td>\n",
              "      <td>1</td>\n",
              "      <td>0</td>\n",
              "      <td>0</td>\n",
              "      <td>0</td>\n",
              "      <td>0</td>\n",
              "      <td>0</td>\n",
              "      <td>0</td>\n",
              "      <td>1</td>\n",
              "      <td>0</td>\n",
              "      <td>0</td>\n",
              "      <td>1</td>\n",
              "      <td>0</td>\n",
              "      <td>0</td>\n",
              "      <td>0</td>\n",
              "    </tr>\n",
              "    <tr>\n",
              "      <th>1</th>\n",
              "      <td>1</td>\n",
              "      <td>142.6</td>\n",
              "      <td>0</td>\n",
              "      <td>1</td>\n",
              "      <td>0</td>\n",
              "      <td>0</td>\n",
              "      <td>0</td>\n",
              "      <td>1</td>\n",
              "      <td>0</td>\n",
              "      <td>0</td>\n",
              "      <td>0</td>\n",
              "      <td>0</td>\n",
              "      <td>0</td>\n",
              "      <td>1</td>\n",
              "      <td>0</td>\n",
              "      <td>1</td>\n",
              "      <td>0</td>\n",
              "      <td>0</td>\n",
              "      <td>0</td>\n",
              "      <td>0</td>\n",
              "      <td>0</td>\n",
              "      <td>0</td>\n",
              "      <td>0</td>\n",
              "      <td>1</td>\n",
              "      <td>0</td>\n",
              "      <td>0</td>\n",
              "      <td>1</td>\n",
              "      <td>0</td>\n",
              "      <td>0</td>\n",
              "    </tr>\n",
              "    <tr>\n",
              "      <th>2</th>\n",
              "      <td>1</td>\n",
              "      <td>15.8</td>\n",
              "      <td>1</td>\n",
              "      <td>0</td>\n",
              "      <td>0</td>\n",
              "      <td>1</td>\n",
              "      <td>1</td>\n",
              "      <td>0</td>\n",
              "      <td>0</td>\n",
              "      <td>0</td>\n",
              "      <td>0</td>\n",
              "      <td>0</td>\n",
              "      <td>0</td>\n",
              "      <td>1</td>\n",
              "      <td>0</td>\n",
              "      <td>1</td>\n",
              "      <td>0</td>\n",
              "      <td>0</td>\n",
              "      <td>0</td>\n",
              "      <td>0</td>\n",
              "      <td>0</td>\n",
              "      <td>0</td>\n",
              "      <td>1</td>\n",
              "      <td>0</td>\n",
              "      <td>0</td>\n",
              "      <td>0</td>\n",
              "      <td>1</td>\n",
              "      <td>0</td>\n",
              "      <td>0</td>\n",
              "    </tr>\n",
              "  </tbody>\n",
              "</table>\n",
              "</div>"
            ],
            "text/plain": [
              "   converted  initial_fee_level  ... age_(40, 50]  age_(50, 80]\n",
              "0          0               14.5  ...            0             0\n",
              "1          1              142.6  ...            0             0\n",
              "2          1               15.8  ...            0             0\n",
              "\n",
              "[3 rows x 29 columns]"
            ]
          },
          "metadata": {},
          "execution_count": 78
        }
      ]
    },
    {
      "cell_type": "code",
      "metadata": {
        "id": "ANniyPhpj8Yr"
      },
      "source": [
        "dataset = df.values"
      ],
      "execution_count": 79,
      "outputs": []
    },
    {
      "cell_type": "code",
      "metadata": {
        "id": "c0a-vlMJh7nW"
      },
      "source": [
        "X = dataset[:,1:29]\n",
        "y = dataset[:,0:1]"
      ],
      "execution_count": 80,
      "outputs": []
    },
    {
      "cell_type": "code",
      "metadata": {
        "colab": {
          "base_uri": "https://localhost:8080/",
          "height": 367
        },
        "id": "98fNIKJf0vPU",
        "outputId": "48ff5559-4822-4516-99c3-4dbdd7ddff51"
      },
      "source": [
        "\n",
        "# plot feature importance manually\n",
        "from numpy import loadtxt\n",
        "from xgboost import XGBClassifier\n",
        "from matplotlib import pyplot\n",
        "\n",
        "model = XGBClassifier()\n",
        "model.fit(X, y)\n",
        "# feature importance\n",
        "print(model.feature_importances_)\n",
        "# plot\n",
        "pyplot.bar(range(len(model.feature_importances_)), model.feature_importances_)\n",
        "pyplot.show()"
      ],
      "execution_count": 81,
      "outputs": [
        {
          "output_type": "stream",
          "name": "stdout",
          "text": [
            "[0.02499724 0.07541436 0.01024901 0.02384983 0.20146641 0.01984848\n",
            " 0.01153265 0.00447425 0.         0.         0.         0.01403157\n",
            " 0.44484344 0.         0.02713968 0.         0.         0.\n",
            " 0.         0.         0.         0.03802271 0.02189871 0.\n",
            " 0.00929685 0.02787331 0.03169228 0.01336933]\n"
          ]
        },
        {
          "output_type": "display_data",
          "data": {
            "image/png": "[encoded data removed]",
            "text/plain": [
              "<Figure size 432x288 with 1 Axes>"
            ]
          },
          "metadata": {}
        }
      ]
    },
    {
      "cell_type": "markdown",
      "metadata": {
        "id": "CCWvKMoCYYPS"
      },
      "source": [
        "Here we see that gender, segment, initial fee, branch are effective and here age also have some importance."
      ]
    },
    {
      "cell_type": "markdown",
      "metadata": {
        "id": "zbRdVjmMb3w-"
      },
      "source": [
        "##LightGBM Method \n",
        "We will use a Gradient Boosted Model from the LightGBM library to assess feature importances. The LightGBM library has an API that makes deploying the model very similar to using a Scikit-Learn model."
      ]
    },
    {
      "cell_type": "code",
      "metadata": {
        "id": "4tAy7GCVlgX4"
      },
      "source": [
        "import lightgbm as lgb\n",
        "from sklearn.model_selection import KFold\n",
        "from sklearn.metrics import roc_auc_score"
      ],
      "execution_count": 82,
      "outputs": []
    },
    {
      "cell_type": "code",
      "metadata": {
        "colab": {
          "base_uri": "https://localhost:8080/",
          "height": 148
        },
        "id": "Q38DxP5fqU9N",
        "outputId": "6cd0f89b-0732-4e2f-a7f5-38c88a17a1fb"
      },
      "source": [
        "df.head(2)"
      ],
      "execution_count": 83,
      "outputs": [
        {
          "output_type": "execute_result",
          "data": {
            "text/html": [
              "<div>\n",
              "<style scoped>\n",
              "    .dataframe tbody tr th:only-of-type {\n",
              "        vertical-align: middle;\n",
              "    }\n",
              "\n",
              "    .dataframe tbody tr th {\n",
              "        vertical-align: top;\n",
              "    }\n",
              "\n",
              "    .dataframe thead th {\n",
              "        text-align: right;\n",
              "    }\n",
              "</style>\n",
              "<table border=\"1\" class=\"dataframe\">\n",
              "  <thead>\n",
              "    <tr style=\"text-align: right;\">\n",
              "      <th></th>\n",
              "      <th>converted</th>\n",
              "      <th>initial_fee_level</th>\n",
              "      <th>credit_account_id</th>\n",
              "      <th>cs_11</th>\n",
              "      <th>cs_12</th>\n",
              "      <th>cs_13</th>\n",
              "      <th>rcust_0</th>\n",
              "      <th>rcust_1</th>\n",
              "      <th>rcust_2</th>\n",
              "      <th>rcust_3</th>\n",
              "      <th>rcust_4</th>\n",
              "      <th>rcust_5</th>\n",
              "      <th>rcust_8</th>\n",
              "      <th>g_female</th>\n",
              "      <th>g_male</th>\n",
              "      <th>fs_0</th>\n",
              "      <th>fs_1</th>\n",
              "      <th>fs_2</th>\n",
              "      <th>fs_3</th>\n",
              "      <th>fs_4</th>\n",
              "      <th>fs_5</th>\n",
              "      <th>fs_6</th>\n",
              "      <th>br_Helsinki</th>\n",
              "      <th>br_Tampere</th>\n",
              "      <th>br_Turku</th>\n",
              "      <th>age_(14, 25]</th>\n",
              "      <th>age_(25, 40]</th>\n",
              "      <th>age_(40, 50]</th>\n",
              "      <th>age_(50, 80]</th>\n",
              "    </tr>\n",
              "  </thead>\n",
              "  <tbody>\n",
              "    <tr>\n",
              "      <th>0</th>\n",
              "      <td>0</td>\n",
              "      <td>14.5</td>\n",
              "      <td>1</td>\n",
              "      <td>0</td>\n",
              "      <td>0</td>\n",
              "      <td>1</td>\n",
              "      <td>0</td>\n",
              "      <td>1</td>\n",
              "      <td>0</td>\n",
              "      <td>0</td>\n",
              "      <td>0</td>\n",
              "      <td>0</td>\n",
              "      <td>0</td>\n",
              "      <td>0</td>\n",
              "      <td>1</td>\n",
              "      <td>1</td>\n",
              "      <td>0</td>\n",
              "      <td>0</td>\n",
              "      <td>0</td>\n",
              "      <td>0</td>\n",
              "      <td>0</td>\n",
              "      <td>0</td>\n",
              "      <td>1</td>\n",
              "      <td>0</td>\n",
              "      <td>0</td>\n",
              "      <td>1</td>\n",
              "      <td>0</td>\n",
              "      <td>0</td>\n",
              "      <td>0</td>\n",
              "    </tr>\n",
              "    <tr>\n",
              "      <th>1</th>\n",
              "      <td>1</td>\n",
              "      <td>142.6</td>\n",
              "      <td>0</td>\n",
              "      <td>1</td>\n",
              "      <td>0</td>\n",
              "      <td>0</td>\n",
              "      <td>0</td>\n",
              "      <td>1</td>\n",
              "      <td>0</td>\n",
              "      <td>0</td>\n",
              "      <td>0</td>\n",
              "      <td>0</td>\n",
              "      <td>0</td>\n",
              "      <td>1</td>\n",
              "      <td>0</td>\n",
              "      <td>1</td>\n",
              "      <td>0</td>\n",
              "      <td>0</td>\n",
              "      <td>0</td>\n",
              "      <td>0</td>\n",
              "      <td>0</td>\n",
              "      <td>0</td>\n",
              "      <td>0</td>\n",
              "      <td>1</td>\n",
              "      <td>0</td>\n",
              "      <td>0</td>\n",
              "      <td>1</td>\n",
              "      <td>0</td>\n",
              "      <td>0</td>\n",
              "    </tr>\n",
              "  </tbody>\n",
              "</table>\n",
              "</div>"
            ],
            "text/plain": [
              "   converted  initial_fee_level  ... age_(40, 50]  age_(50, 80]\n",
              "0          0               14.5  ...            0             0\n",
              "1          1              142.6  ...            0             0\n",
              "\n",
              "[2 rows x 29 columns]"
            ]
          },
          "metadata": {},
          "execution_count": 83
        }
      ]
    },
    {
      "cell_type": "code",
      "metadata": {
        "id": "vNglKHQ4qHrw"
      },
      "source": [
        "df=df.astype('uint8')"
      ],
      "execution_count": 84,
      "outputs": []
    },
    {
      "cell_type": "code",
      "metadata": {
        "colab": {
          "base_uri": "https://localhost:8080/"
        },
        "id": "s1ZOLi9qr2J0",
        "outputId": "d157e9f6-d44c-4990-8d81-2f8b1620f9af"
      },
      "source": [
        "df.info()"
      ],
      "execution_count": 85,
      "outputs": [
        {
          "output_type": "stream",
          "name": "stdout",
          "text": [
            "<class 'pandas.core.frame.DataFrame'>\n",
            "Int64Index: 821 entries, 0 to 890\n",
            "Data columns (total 29 columns):\n",
            " #   Column             Non-Null Count  Dtype\n",
            "---  ------             --------------  -----\n",
            " 0   converted          821 non-null    uint8\n",
            " 1   initial_fee_level  821 non-null    uint8\n",
            " 2   credit_account_id  821 non-null    uint8\n",
            " 3   cs_11              821 non-null    uint8\n",
            " 4   cs_12              821 non-null    uint8\n",
            " 5   cs_13              821 non-null    uint8\n",
            " 6   rcust_0            821 non-null    uint8\n",
            " 7   rcust_1            821 non-null    uint8\n",
            " 8   rcust_2            821 non-null    uint8\n",
            " 9   rcust_3            821 non-null    uint8\n",
            " 10  rcust_4            821 non-null    uint8\n",
            " 11  rcust_5            821 non-null    uint8\n",
            " 12  rcust_8            821 non-null    uint8\n",
            " 13  g_female           821 non-null    uint8\n",
            " 14  g_male             821 non-null    uint8\n",
            " 15  fs_0               821 non-null    uint8\n",
            " 16  fs_1               821 non-null    uint8\n",
            " 17  fs_2               821 non-null    uint8\n",
            " 18  fs_3               821 non-null    uint8\n",
            " 19  fs_4               821 non-null    uint8\n",
            " 20  fs_5               821 non-null    uint8\n",
            " 21  fs_6               821 non-null    uint8\n",
            " 22  br_Helsinki        821 non-null    uint8\n",
            " 23  br_Tampere         821 non-null    uint8\n",
            " 24  br_Turku           821 non-null    uint8\n",
            " 25  age_(14, 25]       821 non-null    uint8\n",
            " 26  age_(25, 40]       821 non-null    uint8\n",
            " 27  age_(40, 50]       821 non-null    uint8\n",
            " 28  age_(50, 80]       821 non-null    uint8\n",
            "dtypes: uint8(29)\n",
            "memory usage: 69.7 KB\n"
          ]
        }
      ]
    },
    {
      "cell_type": "code",
      "metadata": {
        "id": "94VMWpEVbk7i"
      },
      "source": [
        "y=y.astype('uint8')"
      ],
      "execution_count": 94,
      "outputs": []
    },
    {
      "cell_type": "code",
      "metadata": {
        "id": "t64U6eiTp4bA"
      },
      "source": [
        "dfX = df.drop('converted', axis=1, inplace=True)"
      ],
      "execution_count": 86,
      "outputs": []
    },
    {
      "cell_type": "code",
      "metadata": {
        "id": "y5xtjEqM-ptq"
      },
      "source": [
        "feature_importances = np.zeros(X.shape[1])\n",
        "\n",
        "# Create the model with several hyperparameters\n",
        "model = lgb.LGBMClassifier(objective='binary', boosting_type = 'goss', n_estimators = 10000, class_weight = 'balanced')"
      ],
      "execution_count": 87,
      "outputs": []
    },
    {
      "cell_type": "code",
      "metadata": {
        "id": "yXrmxyY2lrWA"
      },
      "source": [
        "for i in range(2):\n",
        "    \n",
        "    # Split into training and validation set\n",
        "    train_features, valid_features, train_y, valid_y = train_test_split(df, y, test_size = 0.25, random_state = i)\n",
        "    \n",
        "    # Train using early stopping\n",
        "    model.fit(train_features, train_y)\n",
        "    \n",
        "    # Record the feature importances\n",
        "    feature_importances += model.feature_importances_"
      ],
      "execution_count": 95,
      "outputs": []
    },
    {
      "cell_type": "code",
      "metadata": {
        "colab": {
          "base_uri": "https://localhost:8080/",
          "height": 204
        },
        "id": "HMqJkeT2o2sx",
        "outputId": "6d108228-07d2-44d0-f7e4-44be8e8413ea"
      },
      "source": [
        "feature_importances = feature_importances / 2\n",
        "feature_importances = pd.DataFrame({'feature': list(df.columns), 'importance': feature_importances}).sort_values('importance', ascending = False)\n",
        "\n",
        "feature_importances.head()"
      ],
      "execution_count": 96,
      "outputs": [
        {
          "output_type": "execute_result",
          "data": {
            "text/html": [
              "<div>\n",
              "<style scoped>\n",
              "    .dataframe tbody tr th:only-of-type {\n",
              "        vertical-align: middle;\n",
              "    }\n",
              "\n",
              "    .dataframe tbody tr th {\n",
              "        vertical-align: top;\n",
              "    }\n",
              "\n",
              "    .dataframe thead th {\n",
              "        text-align: right;\n",
              "    }\n",
              "</style>\n",
              "<table border=\"1\" class=\"dataframe\">\n",
              "  <thead>\n",
              "    <tr style=\"text-align: right;\">\n",
              "      <th></th>\n",
              "      <th>feature</th>\n",
              "      <th>importance</th>\n",
              "    </tr>\n",
              "  </thead>\n",
              "  <tbody>\n",
              "    <tr>\n",
              "      <th>0</th>\n",
              "      <td>initial_fee_level</td>\n",
              "      <td>21804.0</td>\n",
              "    </tr>\n",
              "    <tr>\n",
              "      <th>25</th>\n",
              "      <td>age_(25, 40]</td>\n",
              "      <td>6728.0</td>\n",
              "    </tr>\n",
              "    <tr>\n",
              "      <th>24</th>\n",
              "      <td>age_(14, 25]</td>\n",
              "      <td>4091.0</td>\n",
              "    </tr>\n",
              "    <tr>\n",
              "      <th>21</th>\n",
              "      <td>br_Helsinki</td>\n",
              "      <td>3683.5</td>\n",
              "    </tr>\n",
              "    <tr>\n",
              "      <th>12</th>\n",
              "      <td>g_female</td>\n",
              "      <td>2680.5</td>\n",
              "    </tr>\n",
              "  </tbody>\n",
              "</table>\n",
              "</div>"
            ],
            "text/plain": [
              "              feature  importance\n",
              "0   initial_fee_level     21804.0\n",
              "25       age_(25, 40]      6728.0\n",
              "24       age_(14, 25]      4091.0\n",
              "21        br_Helsinki      3683.5\n",
              "12           g_female      2680.5"
            ]
          },
          "metadata": {},
          "execution_count": 96
        }
      ]
    },
    {
      "cell_type": "code",
      "metadata": {
        "colab": {
          "base_uri": "https://localhost:8080/",
          "height": 221
        },
        "id": "AivX1UmqsK3I",
        "outputId": "7bbc2187-599b-4890-d085-cc6f96710ab3"
      },
      "source": [
        "zero_features = list(feature_importances[feature_importances['importance'] == 0.0]['feature'])\n",
        "print('There are %d features with 0.0 importance' % len(zero_features))\n",
        "feature_importances.tail()"
      ],
      "execution_count": 97,
      "outputs": [
        {
          "output_type": "stream",
          "name": "stdout",
          "text": [
            "There are 10 features with 0.0 importance\n"
          ]
        },
        {
          "output_type": "execute_result",
          "data": {
            "text/html": [
              "<div>\n",
              "<style scoped>\n",
              "    .dataframe tbody tr th:only-of-type {\n",
              "        vertical-align: middle;\n",
              "    }\n",
              "\n",
              "    .dataframe tbody tr th {\n",
              "        vertical-align: top;\n",
              "    }\n",
              "\n",
              "    .dataframe thead th {\n",
              "        text-align: right;\n",
              "    }\n",
              "</style>\n",
              "<table border=\"1\" class=\"dataframe\">\n",
              "  <thead>\n",
              "    <tr style=\"text-align: right;\">\n",
              "      <th></th>\n",
              "      <th>feature</th>\n",
              "      <th>importance</th>\n",
              "    </tr>\n",
              "  </thead>\n",
              "  <tbody>\n",
              "    <tr>\n",
              "      <th>17</th>\n",
              "      <td>fs_3</td>\n",
              "      <td>0.0</td>\n",
              "    </tr>\n",
              "    <tr>\n",
              "      <th>16</th>\n",
              "      <td>fs_2</td>\n",
              "      <td>0.0</td>\n",
              "    </tr>\n",
              "    <tr>\n",
              "      <th>8</th>\n",
              "      <td>rcust_3</td>\n",
              "      <td>0.0</td>\n",
              "    </tr>\n",
              "    <tr>\n",
              "      <th>9</th>\n",
              "      <td>rcust_4</td>\n",
              "      <td>0.0</td>\n",
              "    </tr>\n",
              "    <tr>\n",
              "      <th>19</th>\n",
              "      <td>fs_5</td>\n",
              "      <td>0.0</td>\n",
              "    </tr>\n",
              "  </tbody>\n",
              "</table>\n",
              "</div>"
            ],
            "text/plain": [
              "    feature  importance\n",
              "17     fs_3         0.0\n",
              "16     fs_2         0.0\n",
              "8   rcust_3         0.0\n",
              "9   rcust_4         0.0\n",
              "19     fs_5         0.0"
            ]
          },
          "metadata": {},
          "execution_count": 97
        }
      ]
    },
    {
      "cell_type": "code",
      "metadata": {
        "id": "chbPTxNmsTkH"
      },
      "source": [
        "def plot_feature_importances(df, threshold = 0.9):\n",
        "  \n",
        "    plt.rcParams['font.size'] = 18\n",
        "    \n",
        "    # Sort features according to importance\n",
        "    df = df.sort_values('importance', ascending = False).reset_index()\n",
        "    \n",
        "    # Normalize the feature importances to add up to one\n",
        "    df['importance_normalized'] = df['importance'] / df['importance'].sum()\n",
        "    df['cumulative_importance'] = np.cumsum(df['importance_normalized'])\n",
        "\n",
        "    # Make a horizontal bar chart of feature importances\n",
        "    plt.figure(figsize = (10, 6))\n",
        "    ax = plt.subplot()\n",
        "    \n",
        "    # Need to reverse the index to plot most important on top\n",
        "    ax.barh(list(reversed(list(df.index[:15]))), \n",
        "            df['importance_normalized'].head(15), \n",
        "            align = 'center', edgecolor = 'k')\n",
        "    \n",
        "    # Set the yticks and labels\n",
        "    ax.set_yticks(list(reversed(list(df.index[:15]))))\n",
        "    ax.set_yticklabels(df['feature'].head(15))\n",
        "    \n",
        "    # Plot labeling\n",
        "    plt.xlabel('Normalized Importance'); plt.title('Feature Importances')\n",
        "    plt.show()\n",
        "    \n",
        "    # Cumulative importance plot\n",
        "    plt.figure(figsize = (8, 6))\n",
        "    plt.plot(list(range(len(df))), df['cumulative_importance'], 'r-')\n",
        "    plt.xlabel('Number of Features'); plt.ylabel('Cumulative Importance'); \n",
        "    plt.title('Cumulative Feature Importance');\n",
        "    plt.show();\n",
        "    \n",
        "    importance_index = np.min(np.where(df['cumulative_importance'] > threshold))\n",
        "    print('%d features required for %0.2f of cumulative importance' % (importance_index + 1, threshold))\n",
        "    \n",
        "    return df"
      ],
      "execution_count": 98,
      "outputs": []
    },
    {
      "cell_type": "code",
      "metadata": {
        "colab": {
          "base_uri": "https://localhost:8080/",
          "height": 904
        },
        "id": "2uW7ipiFsW88",
        "outputId": "7ffd6cdd-afef-4b26-8036-44582ac583d4"
      },
      "source": [
        "norm_feature_importances = plot_feature_importances(feature_importances)"
      ],
      "execution_count": null,
      "outputs": [
        {
          "output_type": "display_data",
          "data": {
            "image/png": "[encoded data removed]",
            "text/plain": [
              "<Figure size 720x432 with 1 Axes>"
            ]
          },
          "metadata": {}
        },
        {
          "output_type": "display_data",
          "data": {
            "image/png": "[encoded data removed]",
            "text/plain": [
              "<Figure size 576x432 with 1 Axes>"
            ]
          },
          "metadata": {}
        },
        {
          "output_type": "stream",
          "name": "stdout",
          "text": [
            "10 features required for 0.90 of cumulative importance\n"
          ]
        }
      ]
    },
    {
      "cell_type": "markdown",
      "metadata": {
        "id": "mSKogGdSdijy"
      },
      "source": [
        "Here, we realize that initial fee level, age gender, branch, customer segmentation and credit account id are important features. Family size and related customer are irrelevant."
      ]
    },
    {
      "cell_type": "code",
      "metadata": {
        "id": "dlrBAHR2eCm_"
      },
      "source": [
        ""
      ],
      "execution_count": null,
      "outputs": []
    }
  ]
}